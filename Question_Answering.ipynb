{
  "nbformat": 4,
  "nbformat_minor": 0,
  "metadata": {
    "colab": {
      "name": "NLP Project Test",
      "provenance": [],
      "collapsed_sections": [],
      "machine_shape": "hm"
    },
    "kernelspec": {
      "name": "python3",
      "display_name": "Python 3"
    },
    "accelerator": "GPU",
    "widgets": {
      "application/vnd.jupyter.widget-state+json": {
        "de0ffec53a204b4fa7156108d821c5d9": {
          "model_module": "@jupyter-widgets/controls",
          "model_name": "HBoxModel",
          "state": {
            "_view_name": "HBoxView",
            "_dom_classes": [],
            "_model_name": "HBoxModel",
            "_view_module": "@jupyter-widgets/controls",
            "_model_module_version": "1.5.0",
            "_view_count": null,
            "_view_module_version": "1.5.0",
            "box_style": "",
            "layout": "IPY_MODEL_b5c0ef14cef948c49b50c111af68a813",
            "_model_module": "@jupyter-widgets/controls",
            "children": [
              "IPY_MODEL_dd0810883e6c4cdd8204e0285ca4542a",
              "IPY_MODEL_9d40cb58391043f1913f819bdbb64d0b"
            ]
          }
        },
        "b5c0ef14cef948c49b50c111af68a813": {
          "model_module": "@jupyter-widgets/base",
          "model_name": "LayoutModel",
          "state": {
            "_view_name": "LayoutView",
            "grid_template_rows": null,
            "right": null,
            "justify_content": null,
            "_view_module": "@jupyter-widgets/base",
            "overflow": null,
            "_model_module_version": "1.2.0",
            "_view_count": null,
            "flex_flow": null,
            "width": null,
            "min_width": null,
            "border": null,
            "align_items": null,
            "bottom": null,
            "_model_module": "@jupyter-widgets/base",
            "top": null,
            "grid_column": null,
            "overflow_y": null,
            "overflow_x": null,
            "grid_auto_flow": null,
            "grid_area": null,
            "grid_template_columns": null,
            "flex": null,
            "_model_name": "LayoutModel",
            "justify_items": null,
            "grid_row": null,
            "max_height": null,
            "align_content": null,
            "visibility": null,
            "align_self": null,
            "height": null,
            "min_height": null,
            "padding": null,
            "grid_auto_rows": null,
            "grid_gap": null,
            "max_width": null,
            "order": null,
            "_view_module_version": "1.2.0",
            "grid_template_areas": null,
            "object_position": null,
            "object_fit": null,
            "grid_auto_columns": null,
            "margin": null,
            "display": null,
            "left": null
          }
        },
        "dd0810883e6c4cdd8204e0285ca4542a": {
          "model_module": "@jupyter-widgets/controls",
          "model_name": "FloatProgressModel",
          "state": {
            "_view_name": "ProgressView",
            "style": "IPY_MODEL_80b57830449c4c2d98b50ade97e17adb",
            "_dom_classes": [],
            "description": "Downloading: 100%",
            "_model_name": "FloatProgressModel",
            "bar_style": "success",
            "max": 898823,
            "_view_module": "@jupyter-widgets/controls",
            "_model_module_version": "1.5.0",
            "value": 898823,
            "_view_count": null,
            "_view_module_version": "1.5.0",
            "orientation": "horizontal",
            "min": 0,
            "description_tooltip": null,
            "_model_module": "@jupyter-widgets/controls",
            "layout": "IPY_MODEL_83f361d4eda344dba4c9b925c028e306"
          }
        },
        "9d40cb58391043f1913f819bdbb64d0b": {
          "model_module": "@jupyter-widgets/controls",
          "model_name": "HTMLModel",
          "state": {
            "_view_name": "HTMLView",
            "style": "IPY_MODEL_ec7531d77d2e428baa7c380dfedd748b",
            "_dom_classes": [],
            "description": "",
            "_model_name": "HTMLModel",
            "placeholder": "​",
            "_view_module": "@jupyter-widgets/controls",
            "_model_module_version": "1.5.0",
            "value": " 899k/899k [00:00&lt;00:00, 1.36MB/s]",
            "_view_count": null,
            "_view_module_version": "1.5.0",
            "description_tooltip": null,
            "_model_module": "@jupyter-widgets/controls",
            "layout": "IPY_MODEL_6166f2581c8443c7bf16f982d69a3c35"
          }
        },
        "80b57830449c4c2d98b50ade97e17adb": {
          "model_module": "@jupyter-widgets/controls",
          "model_name": "ProgressStyleModel",
          "state": {
            "_view_name": "StyleView",
            "_model_name": "ProgressStyleModel",
            "description_width": "initial",
            "_view_module": "@jupyter-widgets/base",
            "_model_module_version": "1.5.0",
            "_view_count": null,
            "_view_module_version": "1.2.0",
            "bar_color": null,
            "_model_module": "@jupyter-widgets/controls"
          }
        },
        "83f361d4eda344dba4c9b925c028e306": {
          "model_module": "@jupyter-widgets/base",
          "model_name": "LayoutModel",
          "state": {
            "_view_name": "LayoutView",
            "grid_template_rows": null,
            "right": null,
            "justify_content": null,
            "_view_module": "@jupyter-widgets/base",
            "overflow": null,
            "_model_module_version": "1.2.0",
            "_view_count": null,
            "flex_flow": null,
            "width": null,
            "min_width": null,
            "border": null,
            "align_items": null,
            "bottom": null,
            "_model_module": "@jupyter-widgets/base",
            "top": null,
            "grid_column": null,
            "overflow_y": null,
            "overflow_x": null,
            "grid_auto_flow": null,
            "grid_area": null,
            "grid_template_columns": null,
            "flex": null,
            "_model_name": "LayoutModel",
            "justify_items": null,
            "grid_row": null,
            "max_height": null,
            "align_content": null,
            "visibility": null,
            "align_self": null,
            "height": null,
            "min_height": null,
            "padding": null,
            "grid_auto_rows": null,
            "grid_gap": null,
            "max_width": null,
            "order": null,
            "_view_module_version": "1.2.0",
            "grid_template_areas": null,
            "object_position": null,
            "object_fit": null,
            "grid_auto_columns": null,
            "margin": null,
            "display": null,
            "left": null
          }
        },
        "ec7531d77d2e428baa7c380dfedd748b": {
          "model_module": "@jupyter-widgets/controls",
          "model_name": "DescriptionStyleModel",
          "state": {
            "_view_name": "StyleView",
            "_model_name": "DescriptionStyleModel",
            "description_width": "",
            "_view_module": "@jupyter-widgets/base",
            "_model_module_version": "1.5.0",
            "_view_count": null,
            "_view_module_version": "1.2.0",
            "_model_module": "@jupyter-widgets/controls"
          }
        },
        "6166f2581c8443c7bf16f982d69a3c35": {
          "model_module": "@jupyter-widgets/base",
          "model_name": "LayoutModel",
          "state": {
            "_view_name": "LayoutView",
            "grid_template_rows": null,
            "right": null,
            "justify_content": null,
            "_view_module": "@jupyter-widgets/base",
            "overflow": null,
            "_model_module_version": "1.2.0",
            "_view_count": null,
            "flex_flow": null,
            "width": null,
            "min_width": null,
            "border": null,
            "align_items": null,
            "bottom": null,
            "_model_module": "@jupyter-widgets/base",
            "top": null,
            "grid_column": null,
            "overflow_y": null,
            "overflow_x": null,
            "grid_auto_flow": null,
            "grid_area": null,
            "grid_template_columns": null,
            "flex": null,
            "_model_name": "LayoutModel",
            "justify_items": null,
            "grid_row": null,
            "max_height": null,
            "align_content": null,
            "visibility": null,
            "align_self": null,
            "height": null,
            "min_height": null,
            "padding": null,
            "grid_auto_rows": null,
            "grid_gap": null,
            "max_width": null,
            "order": null,
            "_view_module_version": "1.2.0",
            "grid_template_areas": null,
            "object_position": null,
            "object_fit": null,
            "grid_auto_columns": null,
            "margin": null,
            "display": null,
            "left": null
          }
        },
        "474dd63b8dda4864b9075e7ad09b805f": {
          "model_module": "@jupyter-widgets/controls",
          "model_name": "HBoxModel",
          "state": {
            "_view_name": "HBoxView",
            "_dom_classes": [],
            "_model_name": "HBoxModel",
            "_view_module": "@jupyter-widgets/controls",
            "_model_module_version": "1.5.0",
            "_view_count": null,
            "_view_module_version": "1.5.0",
            "box_style": "",
            "layout": "IPY_MODEL_8626dda5ad8a47858ca64d0542840ef0",
            "_model_module": "@jupyter-widgets/controls",
            "children": [
              "IPY_MODEL_3a8803c68d0b47e9971c253fa317256f",
              "IPY_MODEL_2d51e58df3954420840e476c84080b59"
            ]
          }
        },
        "8626dda5ad8a47858ca64d0542840ef0": {
          "model_module": "@jupyter-widgets/base",
          "model_name": "LayoutModel",
          "state": {
            "_view_name": "LayoutView",
            "grid_template_rows": null,
            "right": null,
            "justify_content": null,
            "_view_module": "@jupyter-widgets/base",
            "overflow": null,
            "_model_module_version": "1.2.0",
            "_view_count": null,
            "flex_flow": null,
            "width": null,
            "min_width": null,
            "border": null,
            "align_items": null,
            "bottom": null,
            "_model_module": "@jupyter-widgets/base",
            "top": null,
            "grid_column": null,
            "overflow_y": null,
            "overflow_x": null,
            "grid_auto_flow": null,
            "grid_area": null,
            "grid_template_columns": null,
            "flex": null,
            "_model_name": "LayoutModel",
            "justify_items": null,
            "grid_row": null,
            "max_height": null,
            "align_content": null,
            "visibility": null,
            "align_self": null,
            "height": null,
            "min_height": null,
            "padding": null,
            "grid_auto_rows": null,
            "grid_gap": null,
            "max_width": null,
            "order": null,
            "_view_module_version": "1.2.0",
            "grid_template_areas": null,
            "object_position": null,
            "object_fit": null,
            "grid_auto_columns": null,
            "margin": null,
            "display": null,
            "left": null
          }
        },
        "3a8803c68d0b47e9971c253fa317256f": {
          "model_module": "@jupyter-widgets/controls",
          "model_name": "FloatProgressModel",
          "state": {
            "_view_name": "ProgressView",
            "style": "IPY_MODEL_fdc5e03a431a4bc19cb8131dd9dbebfc",
            "_dom_classes": [],
            "description": "Downloading: 100%",
            "_model_name": "FloatProgressModel",
            "bar_style": "success",
            "max": 456318,
            "_view_module": "@jupyter-widgets/controls",
            "_model_module_version": "1.5.0",
            "value": 456318,
            "_view_count": null,
            "_view_module_version": "1.5.0",
            "orientation": "horizontal",
            "min": 0,
            "description_tooltip": null,
            "_model_module": "@jupyter-widgets/controls",
            "layout": "IPY_MODEL_aea6e7d0ccb6467ea43975d2187080f5"
          }
        },
        "2d51e58df3954420840e476c84080b59": {
          "model_module": "@jupyter-widgets/controls",
          "model_name": "HTMLModel",
          "state": {
            "_view_name": "HTMLView",
            "style": "IPY_MODEL_fb26cb8fa3294f88a7396713a61c22f2",
            "_dom_classes": [],
            "description": "",
            "_model_name": "HTMLModel",
            "placeholder": "​",
            "_view_module": "@jupyter-widgets/controls",
            "_model_module_version": "1.5.0",
            "value": " 456k/456k [00:00&lt;00:00, 2.16MB/s]",
            "_view_count": null,
            "_view_module_version": "1.5.0",
            "description_tooltip": null,
            "_model_module": "@jupyter-widgets/controls",
            "layout": "IPY_MODEL_36885144337c4272abf8ea730e728430"
          }
        },
        "fdc5e03a431a4bc19cb8131dd9dbebfc": {
          "model_module": "@jupyter-widgets/controls",
          "model_name": "ProgressStyleModel",
          "state": {
            "_view_name": "StyleView",
            "_model_name": "ProgressStyleModel",
            "description_width": "initial",
            "_view_module": "@jupyter-widgets/base",
            "_model_module_version": "1.5.0",
            "_view_count": null,
            "_view_module_version": "1.2.0",
            "bar_color": null,
            "_model_module": "@jupyter-widgets/controls"
          }
        },
        "aea6e7d0ccb6467ea43975d2187080f5": {
          "model_module": "@jupyter-widgets/base",
          "model_name": "LayoutModel",
          "state": {
            "_view_name": "LayoutView",
            "grid_template_rows": null,
            "right": null,
            "justify_content": null,
            "_view_module": "@jupyter-widgets/base",
            "overflow": null,
            "_model_module_version": "1.2.0",
            "_view_count": null,
            "flex_flow": null,
            "width": null,
            "min_width": null,
            "border": null,
            "align_items": null,
            "bottom": null,
            "_model_module": "@jupyter-widgets/base",
            "top": null,
            "grid_column": null,
            "overflow_y": null,
            "overflow_x": null,
            "grid_auto_flow": null,
            "grid_area": null,
            "grid_template_columns": null,
            "flex": null,
            "_model_name": "LayoutModel",
            "justify_items": null,
            "grid_row": null,
            "max_height": null,
            "align_content": null,
            "visibility": null,
            "align_self": null,
            "height": null,
            "min_height": null,
            "padding": null,
            "grid_auto_rows": null,
            "grid_gap": null,
            "max_width": null,
            "order": null,
            "_view_module_version": "1.2.0",
            "grid_template_areas": null,
            "object_position": null,
            "object_fit": null,
            "grid_auto_columns": null,
            "margin": null,
            "display": null,
            "left": null
          }
        },
        "fb26cb8fa3294f88a7396713a61c22f2": {
          "model_module": "@jupyter-widgets/controls",
          "model_name": "DescriptionStyleModel",
          "state": {
            "_view_name": "StyleView",
            "_model_name": "DescriptionStyleModel",
            "description_width": "",
            "_view_module": "@jupyter-widgets/base",
            "_model_module_version": "1.5.0",
            "_view_count": null,
            "_view_module_version": "1.2.0",
            "_model_module": "@jupyter-widgets/controls"
          }
        },
        "36885144337c4272abf8ea730e728430": {
          "model_module": "@jupyter-widgets/base",
          "model_name": "LayoutModel",
          "state": {
            "_view_name": "LayoutView",
            "grid_template_rows": null,
            "right": null,
            "justify_content": null,
            "_view_module": "@jupyter-widgets/base",
            "overflow": null,
            "_model_module_version": "1.2.0",
            "_view_count": null,
            "flex_flow": null,
            "width": null,
            "min_width": null,
            "border": null,
            "align_items": null,
            "bottom": null,
            "_model_module": "@jupyter-widgets/base",
            "top": null,
            "grid_column": null,
            "overflow_y": null,
            "overflow_x": null,
            "grid_auto_flow": null,
            "grid_area": null,
            "grid_template_columns": null,
            "flex": null,
            "_model_name": "LayoutModel",
            "justify_items": null,
            "grid_row": null,
            "max_height": null,
            "align_content": null,
            "visibility": null,
            "align_self": null,
            "height": null,
            "min_height": null,
            "padding": null,
            "grid_auto_rows": null,
            "grid_gap": null,
            "max_width": null,
            "order": null,
            "_view_module_version": "1.2.0",
            "grid_template_areas": null,
            "object_position": null,
            "object_fit": null,
            "grid_auto_columns": null,
            "margin": null,
            "display": null,
            "left": null
          }
        },
        "6d91f2be8606485a9cdf456f82aaf432": {
          "model_module": "@jupyter-widgets/controls",
          "model_name": "HBoxModel",
          "state": {
            "_view_name": "HBoxView",
            "_dom_classes": [],
            "_model_name": "HBoxModel",
            "_view_module": "@jupyter-widgets/controls",
            "_model_module_version": "1.5.0",
            "_view_count": null,
            "_view_module_version": "1.5.0",
            "box_style": "",
            "layout": "IPY_MODEL_9fd6a4ac5afd457db3380458987e2bc4",
            "_model_module": "@jupyter-widgets/controls",
            "children": [
              "IPY_MODEL_bcbd6d0354ff444593773d4cf5ce0aa2",
              "IPY_MODEL_be83612583a54a1399dbe16e010429e6"
            ]
          }
        },
        "9fd6a4ac5afd457db3380458987e2bc4": {
          "model_module": "@jupyter-widgets/base",
          "model_name": "LayoutModel",
          "state": {
            "_view_name": "LayoutView",
            "grid_template_rows": null,
            "right": null,
            "justify_content": null,
            "_view_module": "@jupyter-widgets/base",
            "overflow": null,
            "_model_module_version": "1.2.0",
            "_view_count": null,
            "flex_flow": null,
            "width": null,
            "min_width": null,
            "border": null,
            "align_items": null,
            "bottom": null,
            "_model_module": "@jupyter-widgets/base",
            "top": null,
            "grid_column": null,
            "overflow_y": null,
            "overflow_x": null,
            "grid_auto_flow": null,
            "grid_area": null,
            "grid_template_columns": null,
            "flex": null,
            "_model_name": "LayoutModel",
            "justify_items": null,
            "grid_row": null,
            "max_height": null,
            "align_content": null,
            "visibility": null,
            "align_self": null,
            "height": null,
            "min_height": null,
            "padding": null,
            "grid_auto_rows": null,
            "grid_gap": null,
            "max_width": null,
            "order": null,
            "_view_module_version": "1.2.0",
            "grid_template_areas": null,
            "object_position": null,
            "object_fit": null,
            "grid_auto_columns": null,
            "margin": null,
            "display": null,
            "left": null
          }
        },
        "bcbd6d0354ff444593773d4cf5ce0aa2": {
          "model_module": "@jupyter-widgets/controls",
          "model_name": "FloatProgressModel",
          "state": {
            "_view_name": "ProgressView",
            "style": "IPY_MODEL_a917267669b24fdaad7e3abd6ba9f114",
            "_dom_classes": [],
            "description": "Downloading: 100%",
            "_model_name": "FloatProgressModel",
            "bar_style": "success",
            "max": 482,
            "_view_module": "@jupyter-widgets/controls",
            "_model_module_version": "1.5.0",
            "value": 482,
            "_view_count": null,
            "_view_module_version": "1.5.0",
            "orientation": "horizontal",
            "min": 0,
            "description_tooltip": null,
            "_model_module": "@jupyter-widgets/controls",
            "layout": "IPY_MODEL_a9240ad544cd4e5395e3ce495ffce11f"
          }
        },
        "be83612583a54a1399dbe16e010429e6": {
          "model_module": "@jupyter-widgets/controls",
          "model_name": "HTMLModel",
          "state": {
            "_view_name": "HTMLView",
            "style": "IPY_MODEL_d5c2b3748617481d9fabd030513321ad",
            "_dom_classes": [],
            "description": "",
            "_model_name": "HTMLModel",
            "placeholder": "​",
            "_view_module": "@jupyter-widgets/controls",
            "_model_module_version": "1.5.0",
            "value": " 482/482 [01:44&lt;00:00, 4.63B/s]",
            "_view_count": null,
            "_view_module_version": "1.5.0",
            "description_tooltip": null,
            "_model_module": "@jupyter-widgets/controls",
            "layout": "IPY_MODEL_8e564616d0b349858cc8506ae82b03eb"
          }
        },
        "a917267669b24fdaad7e3abd6ba9f114": {
          "model_module": "@jupyter-widgets/controls",
          "model_name": "ProgressStyleModel",
          "state": {
            "_view_name": "StyleView",
            "_model_name": "ProgressStyleModel",
            "description_width": "initial",
            "_view_module": "@jupyter-widgets/base",
            "_model_module_version": "1.5.0",
            "_view_count": null,
            "_view_module_version": "1.2.0",
            "bar_color": null,
            "_model_module": "@jupyter-widgets/controls"
          }
        },
        "a9240ad544cd4e5395e3ce495ffce11f": {
          "model_module": "@jupyter-widgets/base",
          "model_name": "LayoutModel",
          "state": {
            "_view_name": "LayoutView",
            "grid_template_rows": null,
            "right": null,
            "justify_content": null,
            "_view_module": "@jupyter-widgets/base",
            "overflow": null,
            "_model_module_version": "1.2.0",
            "_view_count": null,
            "flex_flow": null,
            "width": null,
            "min_width": null,
            "border": null,
            "align_items": null,
            "bottom": null,
            "_model_module": "@jupyter-widgets/base",
            "top": null,
            "grid_column": null,
            "overflow_y": null,
            "overflow_x": null,
            "grid_auto_flow": null,
            "grid_area": null,
            "grid_template_columns": null,
            "flex": null,
            "_model_name": "LayoutModel",
            "justify_items": null,
            "grid_row": null,
            "max_height": null,
            "align_content": null,
            "visibility": null,
            "align_self": null,
            "height": null,
            "min_height": null,
            "padding": null,
            "grid_auto_rows": null,
            "grid_gap": null,
            "max_width": null,
            "order": null,
            "_view_module_version": "1.2.0",
            "grid_template_areas": null,
            "object_position": null,
            "object_fit": null,
            "grid_auto_columns": null,
            "margin": null,
            "display": null,
            "left": null
          }
        },
        "d5c2b3748617481d9fabd030513321ad": {
          "model_module": "@jupyter-widgets/controls",
          "model_name": "DescriptionStyleModel",
          "state": {
            "_view_name": "StyleView",
            "_model_name": "DescriptionStyleModel",
            "description_width": "",
            "_view_module": "@jupyter-widgets/base",
            "_model_module_version": "1.5.0",
            "_view_count": null,
            "_view_module_version": "1.2.0",
            "_model_module": "@jupyter-widgets/controls"
          }
        },
        "8e564616d0b349858cc8506ae82b03eb": {
          "model_module": "@jupyter-widgets/base",
          "model_name": "LayoutModel",
          "state": {
            "_view_name": "LayoutView",
            "grid_template_rows": null,
            "right": null,
            "justify_content": null,
            "_view_module": "@jupyter-widgets/base",
            "overflow": null,
            "_model_module_version": "1.2.0",
            "_view_count": null,
            "flex_flow": null,
            "width": null,
            "min_width": null,
            "border": null,
            "align_items": null,
            "bottom": null,
            "_model_module": "@jupyter-widgets/base",
            "top": null,
            "grid_column": null,
            "overflow_y": null,
            "overflow_x": null,
            "grid_auto_flow": null,
            "grid_area": null,
            "grid_template_columns": null,
            "flex": null,
            "_model_name": "LayoutModel",
            "justify_items": null,
            "grid_row": null,
            "max_height": null,
            "align_content": null,
            "visibility": null,
            "align_self": null,
            "height": null,
            "min_height": null,
            "padding": null,
            "grid_auto_rows": null,
            "grid_gap": null,
            "max_width": null,
            "order": null,
            "_view_module_version": "1.2.0",
            "grid_template_areas": null,
            "object_position": null,
            "object_fit": null,
            "grid_auto_columns": null,
            "margin": null,
            "display": null,
            "left": null
          }
        },
        "a7c418f8fd23436c81be9b997b76e765": {
          "model_module": "@jupyter-widgets/controls",
          "model_name": "HBoxModel",
          "state": {
            "_view_name": "HBoxView",
            "_dom_classes": [],
            "_model_name": "HBoxModel",
            "_view_module": "@jupyter-widgets/controls",
            "_model_module_version": "1.5.0",
            "_view_count": null,
            "_view_module_version": "1.5.0",
            "box_style": "",
            "layout": "IPY_MODEL_09028711df354cfba8626c6397e8f44d",
            "_model_module": "@jupyter-widgets/controls",
            "children": [
              "IPY_MODEL_13cf9520e0d743248927f8e5d1ba3ab6",
              "IPY_MODEL_de5a7b8f3e20461687c77552642b6e8c"
            ]
          }
        },
        "09028711df354cfba8626c6397e8f44d": {
          "model_module": "@jupyter-widgets/base",
          "model_name": "LayoutModel",
          "state": {
            "_view_name": "LayoutView",
            "grid_template_rows": null,
            "right": null,
            "justify_content": null,
            "_view_module": "@jupyter-widgets/base",
            "overflow": null,
            "_model_module_version": "1.2.0",
            "_view_count": null,
            "flex_flow": null,
            "width": null,
            "min_width": null,
            "border": null,
            "align_items": null,
            "bottom": null,
            "_model_module": "@jupyter-widgets/base",
            "top": null,
            "grid_column": null,
            "overflow_y": null,
            "overflow_x": null,
            "grid_auto_flow": null,
            "grid_area": null,
            "grid_template_columns": null,
            "flex": null,
            "_model_name": "LayoutModel",
            "justify_items": null,
            "grid_row": null,
            "max_height": null,
            "align_content": null,
            "visibility": null,
            "align_self": null,
            "height": null,
            "min_height": null,
            "padding": null,
            "grid_auto_rows": null,
            "grid_gap": null,
            "max_width": null,
            "order": null,
            "_view_module_version": "1.2.0",
            "grid_template_areas": null,
            "object_position": null,
            "object_fit": null,
            "grid_auto_columns": null,
            "margin": null,
            "display": null,
            "left": null
          }
        },
        "13cf9520e0d743248927f8e5d1ba3ab6": {
          "model_module": "@jupyter-widgets/controls",
          "model_name": "FloatProgressModel",
          "state": {
            "_view_name": "ProgressView",
            "style": "IPY_MODEL_4f0152db410844b593c2e838a556c956",
            "_dom_classes": [],
            "description": "Downloading: 100%",
            "_model_name": "FloatProgressModel",
            "bar_style": "success",
            "max": 1425941629,
            "_view_module": "@jupyter-widgets/controls",
            "_model_module_version": "1.5.0",
            "value": 1425941629,
            "_view_count": null,
            "_view_module_version": "1.5.0",
            "orientation": "horizontal",
            "min": 0,
            "description_tooltip": null,
            "_model_module": "@jupyter-widgets/controls",
            "layout": "IPY_MODEL_e3d0bf33906b426bacb7065d456fb644"
          }
        },
        "de5a7b8f3e20461687c77552642b6e8c": {
          "model_module": "@jupyter-widgets/controls",
          "model_name": "HTMLModel",
          "state": {
            "_view_name": "HTMLView",
            "style": "IPY_MODEL_c4d9dc38992e4a2abfaf37517defac88",
            "_dom_classes": [],
            "description": "",
            "_model_name": "HTMLModel",
            "placeholder": "​",
            "_view_module": "@jupyter-widgets/controls",
            "_model_module_version": "1.5.0",
            "value": " 1.43G/1.43G [01:38&lt;00:00, 14.5MB/s]",
            "_view_count": null,
            "_view_module_version": "1.5.0",
            "description_tooltip": null,
            "_model_module": "@jupyter-widgets/controls",
            "layout": "IPY_MODEL_9bc1dedf3d2a4b348fa9e47a54067be0"
          }
        },
        "4f0152db410844b593c2e838a556c956": {
          "model_module": "@jupyter-widgets/controls",
          "model_name": "ProgressStyleModel",
          "state": {
            "_view_name": "StyleView",
            "_model_name": "ProgressStyleModel",
            "description_width": "initial",
            "_view_module": "@jupyter-widgets/base",
            "_model_module_version": "1.5.0",
            "_view_count": null,
            "_view_module_version": "1.2.0",
            "bar_color": null,
            "_model_module": "@jupyter-widgets/controls"
          }
        },
        "e3d0bf33906b426bacb7065d456fb644": {
          "model_module": "@jupyter-widgets/base",
          "model_name": "LayoutModel",
          "state": {
            "_view_name": "LayoutView",
            "grid_template_rows": null,
            "right": null,
            "justify_content": null,
            "_view_module": "@jupyter-widgets/base",
            "overflow": null,
            "_model_module_version": "1.2.0",
            "_view_count": null,
            "flex_flow": null,
            "width": null,
            "min_width": null,
            "border": null,
            "align_items": null,
            "bottom": null,
            "_model_module": "@jupyter-widgets/base",
            "top": null,
            "grid_column": null,
            "overflow_y": null,
            "overflow_x": null,
            "grid_auto_flow": null,
            "grid_area": null,
            "grid_template_columns": null,
            "flex": null,
            "_model_name": "LayoutModel",
            "justify_items": null,
            "grid_row": null,
            "max_height": null,
            "align_content": null,
            "visibility": null,
            "align_self": null,
            "height": null,
            "min_height": null,
            "padding": null,
            "grid_auto_rows": null,
            "grid_gap": null,
            "max_width": null,
            "order": null,
            "_view_module_version": "1.2.0",
            "grid_template_areas": null,
            "object_position": null,
            "object_fit": null,
            "grid_auto_columns": null,
            "margin": null,
            "display": null,
            "left": null
          }
        },
        "c4d9dc38992e4a2abfaf37517defac88": {
          "model_module": "@jupyter-widgets/controls",
          "model_name": "DescriptionStyleModel",
          "state": {
            "_view_name": "StyleView",
            "_model_name": "DescriptionStyleModel",
            "description_width": "",
            "_view_module": "@jupyter-widgets/base",
            "_model_module_version": "1.5.0",
            "_view_count": null,
            "_view_module_version": "1.2.0",
            "_model_module": "@jupyter-widgets/controls"
          }
        },
        "9bc1dedf3d2a4b348fa9e47a54067be0": {
          "model_module": "@jupyter-widgets/base",
          "model_name": "LayoutModel",
          "state": {
            "_view_name": "LayoutView",
            "grid_template_rows": null,
            "right": null,
            "justify_content": null,
            "_view_module": "@jupyter-widgets/base",
            "overflow": null,
            "_model_module_version": "1.2.0",
            "_view_count": null,
            "flex_flow": null,
            "width": null,
            "min_width": null,
            "border": null,
            "align_items": null,
            "bottom": null,
            "_model_module": "@jupyter-widgets/base",
            "top": null,
            "grid_column": null,
            "overflow_y": null,
            "overflow_x": null,
            "grid_auto_flow": null,
            "grid_area": null,
            "grid_template_columns": null,
            "flex": null,
            "_model_name": "LayoutModel",
            "justify_items": null,
            "grid_row": null,
            "max_height": null,
            "align_content": null,
            "visibility": null,
            "align_self": null,
            "height": null,
            "min_height": null,
            "padding": null,
            "grid_auto_rows": null,
            "grid_gap": null,
            "max_width": null,
            "order": null,
            "_view_module_version": "1.2.0",
            "grid_template_areas": null,
            "object_position": null,
            "object_fit": null,
            "grid_auto_columns": null,
            "margin": null,
            "display": null,
            "left": null
          }
        },
        "b8865ec82fd9424cbc2a4eddc41620b1": {
          "model_module": "@jupyter-widgets/controls",
          "model_name": "HBoxModel",
          "state": {
            "_view_name": "HBoxView",
            "_dom_classes": [],
            "_model_name": "HBoxModel",
            "_view_module": "@jupyter-widgets/controls",
            "_model_module_version": "1.5.0",
            "_view_count": null,
            "_view_module_version": "1.5.0",
            "box_style": "",
            "layout": "IPY_MODEL_46689ec501764181844277b701c33c46",
            "_model_module": "@jupyter-widgets/controls",
            "children": [
              "IPY_MODEL_26595331c15c42e4bbea778ba7e98d05",
              "IPY_MODEL_109f529f38c647a598f0339ae2209030"
            ]
          }
        },
        "46689ec501764181844277b701c33c46": {
          "model_module": "@jupyter-widgets/base",
          "model_name": "LayoutModel",
          "state": {
            "_view_name": "LayoutView",
            "grid_template_rows": null,
            "right": null,
            "justify_content": null,
            "_view_module": "@jupyter-widgets/base",
            "overflow": null,
            "_model_module_version": "1.2.0",
            "_view_count": null,
            "flex_flow": null,
            "width": null,
            "min_width": null,
            "border": null,
            "align_items": null,
            "bottom": null,
            "_model_module": "@jupyter-widgets/base",
            "top": null,
            "grid_column": null,
            "overflow_y": null,
            "overflow_x": null,
            "grid_auto_flow": null,
            "grid_area": null,
            "grid_template_columns": null,
            "flex": null,
            "_model_name": "LayoutModel",
            "justify_items": null,
            "grid_row": null,
            "max_height": null,
            "align_content": null,
            "visibility": null,
            "align_self": null,
            "height": null,
            "min_height": null,
            "padding": null,
            "grid_auto_rows": null,
            "grid_gap": null,
            "max_width": null,
            "order": null,
            "_view_module_version": "1.2.0",
            "grid_template_areas": null,
            "object_position": null,
            "object_fit": null,
            "grid_auto_columns": null,
            "margin": null,
            "display": null,
            "left": null
          }
        },
        "26595331c15c42e4bbea778ba7e98d05": {
          "model_module": "@jupyter-widgets/controls",
          "model_name": "FloatProgressModel",
          "state": {
            "_view_name": "ProgressView",
            "style": "IPY_MODEL_e981fc97dc3b45d8add51c436a49bd01",
            "_dom_classes": [],
            "description": "Downloading: 100%",
            "_model_name": "FloatProgressModel",
            "bar_style": "success",
            "max": 1042301,
            "_view_module": "@jupyter-widgets/controls",
            "_model_module_version": "1.5.0",
            "value": 1042301,
            "_view_count": null,
            "_view_module_version": "1.5.0",
            "orientation": "horizontal",
            "min": 0,
            "description_tooltip": null,
            "_model_module": "@jupyter-widgets/controls",
            "layout": "IPY_MODEL_e0c1d0efeae3481b8d5f748ff49fa9d8"
          }
        },
        "109f529f38c647a598f0339ae2209030": {
          "model_module": "@jupyter-widgets/controls",
          "model_name": "HTMLModel",
          "state": {
            "_view_name": "HTMLView",
            "style": "IPY_MODEL_61eb0c2735bf4902b267692ae1bb0e00",
            "_dom_classes": [],
            "description": "",
            "_model_name": "HTMLModel",
            "placeholder": "​",
            "_view_module": "@jupyter-widgets/controls",
            "_model_module_version": "1.5.0",
            "value": " 1.04M/1.04M [00:00&lt;00:00, 2.12MB/s]",
            "_view_count": null,
            "_view_module_version": "1.5.0",
            "description_tooltip": null,
            "_model_module": "@jupyter-widgets/controls",
            "layout": "IPY_MODEL_c12c9681bf214660a4d134aa2320ce9d"
          }
        },
        "e981fc97dc3b45d8add51c436a49bd01": {
          "model_module": "@jupyter-widgets/controls",
          "model_name": "ProgressStyleModel",
          "state": {
            "_view_name": "StyleView",
            "_model_name": "ProgressStyleModel",
            "description_width": "initial",
            "_view_module": "@jupyter-widgets/base",
            "_model_module_version": "1.5.0",
            "_view_count": null,
            "_view_module_version": "1.2.0",
            "bar_color": null,
            "_model_module": "@jupyter-widgets/controls"
          }
        },
        "e0c1d0efeae3481b8d5f748ff49fa9d8": {
          "model_module": "@jupyter-widgets/base",
          "model_name": "LayoutModel",
          "state": {
            "_view_name": "LayoutView",
            "grid_template_rows": null,
            "right": null,
            "justify_content": null,
            "_view_module": "@jupyter-widgets/base",
            "overflow": null,
            "_model_module_version": "1.2.0",
            "_view_count": null,
            "flex_flow": null,
            "width": null,
            "min_width": null,
            "border": null,
            "align_items": null,
            "bottom": null,
            "_model_module": "@jupyter-widgets/base",
            "top": null,
            "grid_column": null,
            "overflow_y": null,
            "overflow_x": null,
            "grid_auto_flow": null,
            "grid_area": null,
            "grid_template_columns": null,
            "flex": null,
            "_model_name": "LayoutModel",
            "justify_items": null,
            "grid_row": null,
            "max_height": null,
            "align_content": null,
            "visibility": null,
            "align_self": null,
            "height": null,
            "min_height": null,
            "padding": null,
            "grid_auto_rows": null,
            "grid_gap": null,
            "max_width": null,
            "order": null,
            "_view_module_version": "1.2.0",
            "grid_template_areas": null,
            "object_position": null,
            "object_fit": null,
            "grid_auto_columns": null,
            "margin": null,
            "display": null,
            "left": null
          }
        },
        "61eb0c2735bf4902b267692ae1bb0e00": {
          "model_module": "@jupyter-widgets/controls",
          "model_name": "DescriptionStyleModel",
          "state": {
            "_view_name": "StyleView",
            "_model_name": "DescriptionStyleModel",
            "description_width": "",
            "_view_module": "@jupyter-widgets/base",
            "_model_module_version": "1.5.0",
            "_view_count": null,
            "_view_module_version": "1.2.0",
            "_model_module": "@jupyter-widgets/controls"
          }
        },
        "c12c9681bf214660a4d134aa2320ce9d": {
          "model_module": "@jupyter-widgets/base",
          "model_name": "LayoutModel",
          "state": {
            "_view_name": "LayoutView",
            "grid_template_rows": null,
            "right": null,
            "justify_content": null,
            "_view_module": "@jupyter-widgets/base",
            "overflow": null,
            "_model_module_version": "1.2.0",
            "_view_count": null,
            "flex_flow": null,
            "width": null,
            "min_width": null,
            "border": null,
            "align_items": null,
            "bottom": null,
            "_model_module": "@jupyter-widgets/base",
            "top": null,
            "grid_column": null,
            "overflow_y": null,
            "overflow_x": null,
            "grid_auto_flow": null,
            "grid_area": null,
            "grid_template_columns": null,
            "flex": null,
            "_model_name": "LayoutModel",
            "justify_items": null,
            "grid_row": null,
            "max_height": null,
            "align_content": null,
            "visibility": null,
            "align_self": null,
            "height": null,
            "min_height": null,
            "padding": null,
            "grid_auto_rows": null,
            "grid_gap": null,
            "max_width": null,
            "order": null,
            "_view_module_version": "1.2.0",
            "grid_template_areas": null,
            "object_position": null,
            "object_fit": null,
            "grid_auto_columns": null,
            "margin": null,
            "display": null,
            "left": null
          }
        },
        "e333851f21374717a8d4ddaf58666c16": {
          "model_module": "@jupyter-widgets/controls",
          "model_name": "HBoxModel",
          "state": {
            "_view_name": "HBoxView",
            "_dom_classes": [],
            "_model_name": "HBoxModel",
            "_view_module": "@jupyter-widgets/controls",
            "_model_module_version": "1.5.0",
            "_view_count": null,
            "_view_module_version": "1.5.0",
            "box_style": "",
            "layout": "IPY_MODEL_9493124a1d314f6d9ab5db1d414ce789",
            "_model_module": "@jupyter-widgets/controls",
            "children": [
              "IPY_MODEL_7b412ab6260d4d2cbc33f09f4cc864c2",
              "IPY_MODEL_365302c86b234fceaa9c4fe7f5360dad"
            ]
          }
        },
        "9493124a1d314f6d9ab5db1d414ce789": {
          "model_module": "@jupyter-widgets/base",
          "model_name": "LayoutModel",
          "state": {
            "_view_name": "LayoutView",
            "grid_template_rows": null,
            "right": null,
            "justify_content": null,
            "_view_module": "@jupyter-widgets/base",
            "overflow": null,
            "_model_module_version": "1.2.0",
            "_view_count": null,
            "flex_flow": null,
            "width": null,
            "min_width": null,
            "border": null,
            "align_items": null,
            "bottom": null,
            "_model_module": "@jupyter-widgets/base",
            "top": null,
            "grid_column": null,
            "overflow_y": null,
            "overflow_x": null,
            "grid_auto_flow": null,
            "grid_area": null,
            "grid_template_columns": null,
            "flex": null,
            "_model_name": "LayoutModel",
            "justify_items": null,
            "grid_row": null,
            "max_height": null,
            "align_content": null,
            "visibility": null,
            "align_self": null,
            "height": null,
            "min_height": null,
            "padding": null,
            "grid_auto_rows": null,
            "grid_gap": null,
            "max_width": null,
            "order": null,
            "_view_module_version": "1.2.0",
            "grid_template_areas": null,
            "object_position": null,
            "object_fit": null,
            "grid_auto_columns": null,
            "margin": null,
            "display": null,
            "left": null
          }
        },
        "7b412ab6260d4d2cbc33f09f4cc864c2": {
          "model_module": "@jupyter-widgets/controls",
          "model_name": "FloatProgressModel",
          "state": {
            "_view_name": "ProgressView",
            "style": "IPY_MODEL_3464aa667450483e8de1f3eaa6e94998",
            "_dom_classes": [],
            "description": "Downloading: 100%",
            "_model_name": "FloatProgressModel",
            "bar_style": "success",
            "max": 456318,
            "_view_module": "@jupyter-widgets/controls",
            "_model_module_version": "1.5.0",
            "value": 456318,
            "_view_count": null,
            "_view_module_version": "1.5.0",
            "orientation": "horizontal",
            "min": 0,
            "description_tooltip": null,
            "_model_module": "@jupyter-widgets/controls",
            "layout": "IPY_MODEL_0322a5c95ff6426ca4f4f2c115443b4a"
          }
        },
        "365302c86b234fceaa9c4fe7f5360dad": {
          "model_module": "@jupyter-widgets/controls",
          "model_name": "HTMLModel",
          "state": {
            "_view_name": "HTMLView",
            "style": "IPY_MODEL_e7d36075cd9048b4af30b54fd6ca5d18",
            "_dom_classes": [],
            "description": "",
            "_model_name": "HTMLModel",
            "placeholder": "​",
            "_view_module": "@jupyter-widgets/controls",
            "_model_module_version": "1.5.0",
            "value": " 456k/456k [00:00&lt;00:00, 2.47MB/s]",
            "_view_count": null,
            "_view_module_version": "1.5.0",
            "description_tooltip": null,
            "_model_module": "@jupyter-widgets/controls",
            "layout": "IPY_MODEL_91b3f3fce4bd4d29a840bafcb9264dae"
          }
        },
        "3464aa667450483e8de1f3eaa6e94998": {
          "model_module": "@jupyter-widgets/controls",
          "model_name": "ProgressStyleModel",
          "state": {
            "_view_name": "StyleView",
            "_model_name": "ProgressStyleModel",
            "description_width": "initial",
            "_view_module": "@jupyter-widgets/base",
            "_model_module_version": "1.5.0",
            "_view_count": null,
            "_view_module_version": "1.2.0",
            "bar_color": null,
            "_model_module": "@jupyter-widgets/controls"
          }
        },
        "0322a5c95ff6426ca4f4f2c115443b4a": {
          "model_module": "@jupyter-widgets/base",
          "model_name": "LayoutModel",
          "state": {
            "_view_name": "LayoutView",
            "grid_template_rows": null,
            "right": null,
            "justify_content": null,
            "_view_module": "@jupyter-widgets/base",
            "overflow": null,
            "_model_module_version": "1.2.0",
            "_view_count": null,
            "flex_flow": null,
            "width": null,
            "min_width": null,
            "border": null,
            "align_items": null,
            "bottom": null,
            "_model_module": "@jupyter-widgets/base",
            "top": null,
            "grid_column": null,
            "overflow_y": null,
            "overflow_x": null,
            "grid_auto_flow": null,
            "grid_area": null,
            "grid_template_columns": null,
            "flex": null,
            "_model_name": "LayoutModel",
            "justify_items": null,
            "grid_row": null,
            "max_height": null,
            "align_content": null,
            "visibility": null,
            "align_self": null,
            "height": null,
            "min_height": null,
            "padding": null,
            "grid_auto_rows": null,
            "grid_gap": null,
            "max_width": null,
            "order": null,
            "_view_module_version": "1.2.0",
            "grid_template_areas": null,
            "object_position": null,
            "object_fit": null,
            "grid_auto_columns": null,
            "margin": null,
            "display": null,
            "left": null
          }
        },
        "e7d36075cd9048b4af30b54fd6ca5d18": {
          "model_module": "@jupyter-widgets/controls",
          "model_name": "DescriptionStyleModel",
          "state": {
            "_view_name": "StyleView",
            "_model_name": "DescriptionStyleModel",
            "description_width": "",
            "_view_module": "@jupyter-widgets/base",
            "_model_module_version": "1.5.0",
            "_view_count": null,
            "_view_module_version": "1.2.0",
            "_model_module": "@jupyter-widgets/controls"
          }
        },
        "91b3f3fce4bd4d29a840bafcb9264dae": {
          "model_module": "@jupyter-widgets/base",
          "model_name": "LayoutModel",
          "state": {
            "_view_name": "LayoutView",
            "grid_template_rows": null,
            "right": null,
            "justify_content": null,
            "_view_module": "@jupyter-widgets/base",
            "overflow": null,
            "_model_module_version": "1.2.0",
            "_view_count": null,
            "flex_flow": null,
            "width": null,
            "min_width": null,
            "border": null,
            "align_items": null,
            "bottom": null,
            "_model_module": "@jupyter-widgets/base",
            "top": null,
            "grid_column": null,
            "overflow_y": null,
            "overflow_x": null,
            "grid_auto_flow": null,
            "grid_area": null,
            "grid_template_columns": null,
            "flex": null,
            "_model_name": "LayoutModel",
            "justify_items": null,
            "grid_row": null,
            "max_height": null,
            "align_content": null,
            "visibility": null,
            "align_self": null,
            "height": null,
            "min_height": null,
            "padding": null,
            "grid_auto_rows": null,
            "grid_gap": null,
            "max_width": null,
            "order": null,
            "_view_module_version": "1.2.0",
            "grid_template_areas": null,
            "object_position": null,
            "object_fit": null,
            "grid_auto_columns": null,
            "margin": null,
            "display": null,
            "left": null
          }
        },
        "29b074869a354e34a04ec46bf5caa05e": {
          "model_module": "@jupyter-widgets/controls",
          "model_name": "HBoxModel",
          "state": {
            "_view_name": "HBoxView",
            "_dom_classes": [],
            "_model_name": "HBoxModel",
            "_view_module": "@jupyter-widgets/controls",
            "_model_module_version": "1.5.0",
            "_view_count": null,
            "_view_module_version": "1.5.0",
            "box_style": "",
            "layout": "IPY_MODEL_994d8602a23b40f1af516628e1faf706",
            "_model_module": "@jupyter-widgets/controls",
            "children": [
              "IPY_MODEL_c64de517cd364cf9a9166b8df2b61e4a",
              "IPY_MODEL_6214a35a8b7c46f89f4e88f81d68e408"
            ]
          }
        },
        "994d8602a23b40f1af516628e1faf706": {
          "model_module": "@jupyter-widgets/base",
          "model_name": "LayoutModel",
          "state": {
            "_view_name": "LayoutView",
            "grid_template_rows": null,
            "right": null,
            "justify_content": null,
            "_view_module": "@jupyter-widgets/base",
            "overflow": null,
            "_model_module_version": "1.2.0",
            "_view_count": null,
            "flex_flow": null,
            "width": null,
            "min_width": null,
            "border": null,
            "align_items": null,
            "bottom": null,
            "_model_module": "@jupyter-widgets/base",
            "top": null,
            "grid_column": null,
            "overflow_y": null,
            "overflow_x": null,
            "grid_auto_flow": null,
            "grid_area": null,
            "grid_template_columns": null,
            "flex": null,
            "_model_name": "LayoutModel",
            "justify_items": null,
            "grid_row": null,
            "max_height": null,
            "align_content": null,
            "visibility": null,
            "align_self": null,
            "height": null,
            "min_height": null,
            "padding": null,
            "grid_auto_rows": null,
            "grid_gap": null,
            "max_width": null,
            "order": null,
            "_view_module_version": "1.2.0",
            "grid_template_areas": null,
            "object_position": null,
            "object_fit": null,
            "grid_auto_columns": null,
            "margin": null,
            "display": null,
            "left": null
          }
        },
        "c64de517cd364cf9a9166b8df2b61e4a": {
          "model_module": "@jupyter-widgets/controls",
          "model_name": "FloatProgressModel",
          "state": {
            "_view_name": "ProgressView",
            "style": "IPY_MODEL_7c8aae5526914314a229165bc50982d2",
            "_dom_classes": [],
            "description": "Downloading: 100%",
            "_model_name": "FloatProgressModel",
            "bar_style": "success",
            "max": 665,
            "_view_module": "@jupyter-widgets/controls",
            "_model_module_version": "1.5.0",
            "value": 665,
            "_view_count": null,
            "_view_module_version": "1.5.0",
            "orientation": "horizontal",
            "min": 0,
            "description_tooltip": null,
            "_model_module": "@jupyter-widgets/controls",
            "layout": "IPY_MODEL_fe60fc4bbfe24e1dbb2bcf071da61138"
          }
        },
        "6214a35a8b7c46f89f4e88f81d68e408": {
          "model_module": "@jupyter-widgets/controls",
          "model_name": "HTMLModel",
          "state": {
            "_view_name": "HTMLView",
            "style": "IPY_MODEL_cad271b54a4346b78d022410856a3bb2",
            "_dom_classes": [],
            "description": "",
            "_model_name": "HTMLModel",
            "placeholder": "​",
            "_view_module": "@jupyter-widgets/controls",
            "_model_module_version": "1.5.0",
            "value": " 665/665 [00:11&lt;00:00, 59.1B/s]",
            "_view_count": null,
            "_view_module_version": "1.5.0",
            "description_tooltip": null,
            "_model_module": "@jupyter-widgets/controls",
            "layout": "IPY_MODEL_3f7aa4be24af46c483cafdbcb6f4f2dd"
          }
        },
        "7c8aae5526914314a229165bc50982d2": {
          "model_module": "@jupyter-widgets/controls",
          "model_name": "ProgressStyleModel",
          "state": {
            "_view_name": "StyleView",
            "_model_name": "ProgressStyleModel",
            "description_width": "initial",
            "_view_module": "@jupyter-widgets/base",
            "_model_module_version": "1.5.0",
            "_view_count": null,
            "_view_module_version": "1.2.0",
            "bar_color": null,
            "_model_module": "@jupyter-widgets/controls"
          }
        },
        "fe60fc4bbfe24e1dbb2bcf071da61138": {
          "model_module": "@jupyter-widgets/base",
          "model_name": "LayoutModel",
          "state": {
            "_view_name": "LayoutView",
            "grid_template_rows": null,
            "right": null,
            "justify_content": null,
            "_view_module": "@jupyter-widgets/base",
            "overflow": null,
            "_model_module_version": "1.2.0",
            "_view_count": null,
            "flex_flow": null,
            "width": null,
            "min_width": null,
            "border": null,
            "align_items": null,
            "bottom": null,
            "_model_module": "@jupyter-widgets/base",
            "top": null,
            "grid_column": null,
            "overflow_y": null,
            "overflow_x": null,
            "grid_auto_flow": null,
            "grid_area": null,
            "grid_template_columns": null,
            "flex": null,
            "_model_name": "LayoutModel",
            "justify_items": null,
            "grid_row": null,
            "max_height": null,
            "align_content": null,
            "visibility": null,
            "align_self": null,
            "height": null,
            "min_height": null,
            "padding": null,
            "grid_auto_rows": null,
            "grid_gap": null,
            "max_width": null,
            "order": null,
            "_view_module_version": "1.2.0",
            "grid_template_areas": null,
            "object_position": null,
            "object_fit": null,
            "grid_auto_columns": null,
            "margin": null,
            "display": null,
            "left": null
          }
        },
        "cad271b54a4346b78d022410856a3bb2": {
          "model_module": "@jupyter-widgets/controls",
          "model_name": "DescriptionStyleModel",
          "state": {
            "_view_name": "StyleView",
            "_model_name": "DescriptionStyleModel",
            "description_width": "",
            "_view_module": "@jupyter-widgets/base",
            "_model_module_version": "1.5.0",
            "_view_count": null,
            "_view_module_version": "1.2.0",
            "_model_module": "@jupyter-widgets/controls"
          }
        },
        "3f7aa4be24af46c483cafdbcb6f4f2dd": {
          "model_module": "@jupyter-widgets/base",
          "model_name": "LayoutModel",
          "state": {
            "_view_name": "LayoutView",
            "grid_template_rows": null,
            "right": null,
            "justify_content": null,
            "_view_module": "@jupyter-widgets/base",
            "overflow": null,
            "_model_module_version": "1.2.0",
            "_view_count": null,
            "flex_flow": null,
            "width": null,
            "min_width": null,
            "border": null,
            "align_items": null,
            "bottom": null,
            "_model_module": "@jupyter-widgets/base",
            "top": null,
            "grid_column": null,
            "overflow_y": null,
            "overflow_x": null,
            "grid_auto_flow": null,
            "grid_area": null,
            "grid_template_columns": null,
            "flex": null,
            "_model_name": "LayoutModel",
            "justify_items": null,
            "grid_row": null,
            "max_height": null,
            "align_content": null,
            "visibility": null,
            "align_self": null,
            "height": null,
            "min_height": null,
            "padding": null,
            "grid_auto_rows": null,
            "grid_gap": null,
            "max_width": null,
            "order": null,
            "_view_module_version": "1.2.0",
            "grid_template_areas": null,
            "object_position": null,
            "object_fit": null,
            "grid_auto_columns": null,
            "margin": null,
            "display": null,
            "left": null
          }
        },
        "d05f52fdcf1b4a4aaf28e79ea8265b40": {
          "model_module": "@jupyter-widgets/controls",
          "model_name": "HBoxModel",
          "state": {
            "_view_name": "HBoxView",
            "_dom_classes": [],
            "_model_name": "HBoxModel",
            "_view_module": "@jupyter-widgets/controls",
            "_model_module_version": "1.5.0",
            "_view_count": null,
            "_view_module_version": "1.5.0",
            "box_style": "",
            "layout": "IPY_MODEL_1205b250c1654a57960282974d0f1dd3",
            "_model_module": "@jupyter-widgets/controls",
            "children": [
              "IPY_MODEL_62063618088649d393edcab446ceb3fc",
              "IPY_MODEL_30633bf1e1a74a8883f529e6c5f02342"
            ]
          }
        },
        "1205b250c1654a57960282974d0f1dd3": {
          "model_module": "@jupyter-widgets/base",
          "model_name": "LayoutModel",
          "state": {
            "_view_name": "LayoutView",
            "grid_template_rows": null,
            "right": null,
            "justify_content": null,
            "_view_module": "@jupyter-widgets/base",
            "overflow": null,
            "_model_module_version": "1.2.0",
            "_view_count": null,
            "flex_flow": null,
            "width": null,
            "min_width": null,
            "border": null,
            "align_items": null,
            "bottom": null,
            "_model_module": "@jupyter-widgets/base",
            "top": null,
            "grid_column": null,
            "overflow_y": null,
            "overflow_x": null,
            "grid_auto_flow": null,
            "grid_area": null,
            "grid_template_columns": null,
            "flex": null,
            "_model_name": "LayoutModel",
            "justify_items": null,
            "grid_row": null,
            "max_height": null,
            "align_content": null,
            "visibility": null,
            "align_self": null,
            "height": null,
            "min_height": null,
            "padding": null,
            "grid_auto_rows": null,
            "grid_gap": null,
            "max_width": null,
            "order": null,
            "_view_module_version": "1.2.0",
            "grid_template_areas": null,
            "object_position": null,
            "object_fit": null,
            "grid_auto_columns": null,
            "margin": null,
            "display": null,
            "left": null
          }
        },
        "62063618088649d393edcab446ceb3fc": {
          "model_module": "@jupyter-widgets/controls",
          "model_name": "FloatProgressModel",
          "state": {
            "_view_name": "ProgressView",
            "style": "IPY_MODEL_62ef6bda1b654d59a20e2bc2152122a0",
            "_dom_classes": [],
            "description": "Downloading: 100%",
            "_model_name": "FloatProgressModel",
            "bar_style": "success",
            "max": 548118077,
            "_view_module": "@jupyter-widgets/controls",
            "_model_module_version": "1.5.0",
            "value": 548118077,
            "_view_count": null,
            "_view_module_version": "1.5.0",
            "orientation": "horizontal",
            "min": 0,
            "description_tooltip": null,
            "_model_module": "@jupyter-widgets/controls",
            "layout": "IPY_MODEL_57fb23c235004825bb5e79ae3243b9f7"
          }
        },
        "30633bf1e1a74a8883f529e6c5f02342": {
          "model_module": "@jupyter-widgets/controls",
          "model_name": "HTMLModel",
          "state": {
            "_view_name": "HTMLView",
            "style": "IPY_MODEL_e4adde1aff1b4877ba7f32b55ab25a8e",
            "_dom_classes": [],
            "description": "",
            "_model_name": "HTMLModel",
            "placeholder": "​",
            "_view_module": "@jupyter-widgets/controls",
            "_model_module_version": "1.5.0",
            "value": " 548M/548M [00:10&lt;00:00, 49.9MB/s]",
            "_view_count": null,
            "_view_module_version": "1.5.0",
            "description_tooltip": null,
            "_model_module": "@jupyter-widgets/controls",
            "layout": "IPY_MODEL_d3eaef5d93b3489fb61c525e66896676"
          }
        },
        "62ef6bda1b654d59a20e2bc2152122a0": {
          "model_module": "@jupyter-widgets/controls",
          "model_name": "ProgressStyleModel",
          "state": {
            "_view_name": "StyleView",
            "_model_name": "ProgressStyleModel",
            "description_width": "initial",
            "_view_module": "@jupyter-widgets/base",
            "_model_module_version": "1.5.0",
            "_view_count": null,
            "_view_module_version": "1.2.0",
            "bar_color": null,
            "_model_module": "@jupyter-widgets/controls"
          }
        },
        "57fb23c235004825bb5e79ae3243b9f7": {
          "model_module": "@jupyter-widgets/base",
          "model_name": "LayoutModel",
          "state": {
            "_view_name": "LayoutView",
            "grid_template_rows": null,
            "right": null,
            "justify_content": null,
            "_view_module": "@jupyter-widgets/base",
            "overflow": null,
            "_model_module_version": "1.2.0",
            "_view_count": null,
            "flex_flow": null,
            "width": null,
            "min_width": null,
            "border": null,
            "align_items": null,
            "bottom": null,
            "_model_module": "@jupyter-widgets/base",
            "top": null,
            "grid_column": null,
            "overflow_y": null,
            "overflow_x": null,
            "grid_auto_flow": null,
            "grid_area": null,
            "grid_template_columns": null,
            "flex": null,
            "_model_name": "LayoutModel",
            "justify_items": null,
            "grid_row": null,
            "max_height": null,
            "align_content": null,
            "visibility": null,
            "align_self": null,
            "height": null,
            "min_height": null,
            "padding": null,
            "grid_auto_rows": null,
            "grid_gap": null,
            "max_width": null,
            "order": null,
            "_view_module_version": "1.2.0",
            "grid_template_areas": null,
            "object_position": null,
            "object_fit": null,
            "grid_auto_columns": null,
            "margin": null,
            "display": null,
            "left": null
          }
        },
        "e4adde1aff1b4877ba7f32b55ab25a8e": {
          "model_module": "@jupyter-widgets/controls",
          "model_name": "DescriptionStyleModel",
          "state": {
            "_view_name": "StyleView",
            "_model_name": "DescriptionStyleModel",
            "description_width": "",
            "_view_module": "@jupyter-widgets/base",
            "_model_module_version": "1.5.0",
            "_view_count": null,
            "_view_module_version": "1.2.0",
            "_model_module": "@jupyter-widgets/controls"
          }
        },
        "d3eaef5d93b3489fb61c525e66896676": {
          "model_module": "@jupyter-widgets/base",
          "model_name": "LayoutModel",
          "state": {
            "_view_name": "LayoutView",
            "grid_template_rows": null,
            "right": null,
            "justify_content": null,
            "_view_module": "@jupyter-widgets/base",
            "overflow": null,
            "_model_module_version": "1.2.0",
            "_view_count": null,
            "flex_flow": null,
            "width": null,
            "min_width": null,
            "border": null,
            "align_items": null,
            "bottom": null,
            "_model_module": "@jupyter-widgets/base",
            "top": null,
            "grid_column": null,
            "overflow_y": null,
            "overflow_x": null,
            "grid_auto_flow": null,
            "grid_area": null,
            "grid_template_columns": null,
            "flex": null,
            "_model_name": "LayoutModel",
            "justify_items": null,
            "grid_row": null,
            "max_height": null,
            "align_content": null,
            "visibility": null,
            "align_self": null,
            "height": null,
            "min_height": null,
            "padding": null,
            "grid_auto_rows": null,
            "grid_gap": null,
            "max_width": null,
            "order": null,
            "_view_module_version": "1.2.0",
            "grid_template_areas": null,
            "object_position": null,
            "object_fit": null,
            "grid_auto_columns": null,
            "margin": null,
            "display": null,
            "left": null
          }
        }
      }
    }
  },
  "cells": [
    {
      "cell_type": "code",
      "metadata": {
        "id": "-qW2-v_FuX1i",
        "colab": {
          "base_uri": "https://localhost:8080/",
          "height": 1000
        },
        "outputId": "91c22a2c-8419-4277-ef8c-700f1d6d896b"
      },
      "source": [
        "!pip install flair\n",
        "!python3 -m nltk.downloader punkt\n",
        "!pip install spacy==2.1.0\n",
        "!python3 -m spacy download en\n",
        "!pip3 install neuralcoref"
      ],
      "execution_count": null,
      "outputs": [
        {
          "output_type": "stream",
          "text": [
            "Collecting flair\n",
            "\u001b[?25l  Downloading https://files.pythonhosted.org/packages/cd/19/902d1691c1963ab8c9a9578abc2d65c63aa1ecf4f8200143b5ef91ace6f5/flair-0.6.1-py3-none-any.whl (331kB)\n",
            "\r\u001b[K     |█                               | 10kB 23.2MB/s eta 0:00:01\r\u001b[K     |██                              | 20kB 2.2MB/s eta 0:00:01\r\u001b[K     |███                             | 30kB 2.6MB/s eta 0:00:01\r\u001b[K     |████                            | 40kB 2.9MB/s eta 0:00:01\r\u001b[K     |█████                           | 51kB 2.5MB/s eta 0:00:01\r\u001b[K     |██████                          | 61kB 2.8MB/s eta 0:00:01\r\u001b[K     |███████                         | 71kB 3.1MB/s eta 0:00:01\r\u001b[K     |████████                        | 81kB 3.4MB/s eta 0:00:01\r\u001b[K     |█████████                       | 92kB 3.6MB/s eta 0:00:01\r\u001b[K     |█████████▉                      | 102kB 3.5MB/s eta 0:00:01\r\u001b[K     |██████████▉                     | 112kB 3.5MB/s eta 0:00:01\r\u001b[K     |███████████▉                    | 122kB 3.5MB/s eta 0:00:01\r\u001b[K     |████████████▉                   | 133kB 3.5MB/s eta 0:00:01\r\u001b[K     |█████████████▉                  | 143kB 3.5MB/s eta 0:00:01\r\u001b[K     |██████████████▉                 | 153kB 3.5MB/s eta 0:00:01\r\u001b[K     |███████████████▉                | 163kB 3.5MB/s eta 0:00:01\r\u001b[K     |████████████████▉               | 174kB 3.5MB/s eta 0:00:01\r\u001b[K     |█████████████████▉              | 184kB 3.5MB/s eta 0:00:01\r\u001b[K     |██████████████████▉             | 194kB 3.5MB/s eta 0:00:01\r\u001b[K     |███████████████████▊            | 204kB 3.5MB/s eta 0:00:01\r\u001b[K     |████████████████████▊           | 215kB 3.5MB/s eta 0:00:01\r\u001b[K     |█████████████████████▊          | 225kB 3.5MB/s eta 0:00:01\r\u001b[K     |██████████████████████▊         | 235kB 3.5MB/s eta 0:00:01\r\u001b[K     |███████████████████████▊        | 245kB 3.5MB/s eta 0:00:01\r\u001b[K     |████████████████████████▊       | 256kB 3.5MB/s eta 0:00:01\r\u001b[K     |█████████████████████████▊      | 266kB 3.5MB/s eta 0:00:01\r\u001b[K     |██████████████████████████▊     | 276kB 3.5MB/s eta 0:00:01\r\u001b[K     |███████████████████████████▊    | 286kB 3.5MB/s eta 0:00:01\r\u001b[K     |████████████████████████████▊   | 296kB 3.5MB/s eta 0:00:01\r\u001b[K     |█████████████████████████████▋  | 307kB 3.5MB/s eta 0:00:01\r\u001b[K     |██████████████████████████████▋ | 317kB 3.5MB/s eta 0:00:01\r\u001b[K     |███████████████████████████████▋| 327kB 3.5MB/s eta 0:00:01\r\u001b[K     |████████████████████████████████| 337kB 3.5MB/s \n",
            "\u001b[?25hRequirement already satisfied: torch>=1.1.0 in /usr/local/lib/python3.6/dist-packages (from flair) (1.6.0+cu101)\n",
            "Collecting segtok>=1.5.7\n",
            "  Downloading https://files.pythonhosted.org/packages/41/08/582dab5f4b1d5ca23bc6927b4bb977c8ff7f3a87a3b98844ef833e2f5623/segtok-1.5.10.tar.gz\n",
            "Requirement already satisfied: scikit-learn>=0.21.3 in /usr/local/lib/python3.6/dist-packages (from flair) (0.22.2.post1)\n",
            "Requirement already satisfied: gensim>=3.4.0 in /usr/local/lib/python3.6/dist-packages (from flair) (3.6.0)\n",
            "Collecting deprecated>=1.2.4\n",
            "  Downloading https://files.pythonhosted.org/packages/76/a1/05d7f62f956d77b23a640efc650f80ce24483aa2f85a09c03fb64f49e879/Deprecated-1.2.10-py2.py3-none-any.whl\n",
            "Collecting ftfy\n",
            "\u001b[?25l  Downloading https://files.pythonhosted.org/packages/ff/e2/3b51c53dffb1e52d9210ebc01f1fb9f2f6eba9b3201fa971fd3946643c71/ftfy-5.8.tar.gz (64kB)\n",
            "\u001b[K     |████████████████████████████████| 71kB 8.0MB/s \n",
            "\u001b[?25hRequirement already satisfied: hyperopt>=0.1.1 in /usr/local/lib/python3.6/dist-packages (from flair) (0.1.2)\n",
            "Requirement already satisfied: regex in /usr/local/lib/python3.6/dist-packages (from flair) (2019.12.20)\n",
            "Requirement already satisfied: tabulate in /usr/local/lib/python3.6/dist-packages (from flair) (0.8.7)\n",
            "Collecting bpemb>=0.3.2\n",
            "  Downloading https://files.pythonhosted.org/packages/91/77/3f0f53856e86af32b1d3c86652815277f7b5f880002584eb30db115b6df5/bpemb-0.3.2-py3-none-any.whl\n",
            "Collecting konoha<5.0.0,>=4.0.0\n",
            "  Downloading https://files.pythonhosted.org/packages/19/4b/f29cb8cf226d49b14f0d18bd175916dd0054dc66e42488f2c808075ef5a8/konoha-4.6.1-py3-none-any.whl\n",
            "Requirement already satisfied: gdown in /usr/local/lib/python3.6/dist-packages (from flair) (3.6.4)\n",
            "Collecting langdetect\n",
            "\u001b[?25l  Downloading https://files.pythonhosted.org/packages/56/a3/8407c1e62d5980188b4acc45ef3d94b933d14a2ebc9ef3505f22cf772570/langdetect-1.0.8.tar.gz (981kB)\n",
            "\u001b[K     |████████████████████████████████| 983kB 8.8MB/s \n",
            "\u001b[?25hCollecting sqlitedict>=1.6.0\n",
            "  Downloading https://files.pythonhosted.org/packages/5c/2d/b1d99e9ad157dd7de9cd0d36a8a5876b13b55e4b75f7498bc96035fb4e96/sqlitedict-1.7.0.tar.gz\n",
            "Requirement already satisfied: tqdm>=4.26.0 in /usr/local/lib/python3.6/dist-packages (from flair) (4.41.1)\n",
            "Collecting sentencepiece!=0.1.92\n",
            "\u001b[?25l  Downloading https://files.pythonhosted.org/packages/d4/a4/d0a884c4300004a78cca907a6ff9a5e9fe4f090f5d95ab341c53d28cbc58/sentencepiece-0.1.91-cp36-cp36m-manylinux1_x86_64.whl (1.1MB)\n",
            "\u001b[K     |████████████████████████████████| 1.1MB 20.7MB/s \n",
            "\u001b[?25hRequirement already satisfied: lxml in /usr/local/lib/python3.6/dist-packages (from flair) (4.2.6)\n",
            "Requirement already satisfied: python-dateutil>=2.6.1 in /usr/local/lib/python3.6/dist-packages (from flair) (2.8.1)\n",
            "Requirement already satisfied: matplotlib>=2.2.3 in /usr/local/lib/python3.6/dist-packages (from flair) (3.2.2)\n",
            "Collecting mpld3==0.3\n",
            "\u001b[?25l  Downloading https://files.pythonhosted.org/packages/91/95/a52d3a83d0a29ba0d6898f6727e9858fe7a43f6c2ce81a5fe7e05f0f4912/mpld3-0.3.tar.gz (788kB)\n",
            "\u001b[K     |████████████████████████████████| 798kB 28.1MB/s \n",
            "\u001b[?25hCollecting janome\n",
            "\u001b[?25l  Downloading https://files.pythonhosted.org/packages/a8/63/98858cbead27df7536c7e300c169da0999e9704d02220dc6700b804eeff0/Janome-0.4.1-py2.py3-none-any.whl (19.7MB)\n",
            "\u001b[K     |████████████████████████████████| 19.7MB 162kB/s \n",
            "\u001b[?25hCollecting transformers>=3.0.0\n",
            "\u001b[?25l  Downloading https://files.pythonhosted.org/packages/d8/f4/9f93f06dd2c57c7cd7aa515ffbf9fcfd8a084b92285732289f4a5696dd91/transformers-3.2.0-py3-none-any.whl (1.0MB)\n",
            "\u001b[K     |████████████████████████████████| 1.0MB 54.6MB/s \n",
            "\u001b[?25hCollecting pytest>=5.3.2\n",
            "\u001b[?25l  Downloading https://files.pythonhosted.org/packages/45/2c/7e29215cb19745ad67b6476b73fd1299872563f28329ea01d9d887713aaf/pytest-6.0.2-py3-none-any.whl (270kB)\n",
            "\u001b[K     |████████████████████████████████| 276kB 43.4MB/s \n",
            "\u001b[?25hRequirement already satisfied: numpy in /usr/local/lib/python3.6/dist-packages (from torch>=1.1.0->flair) (1.18.5)\n",
            "Requirement already satisfied: future in /usr/local/lib/python3.6/dist-packages (from torch>=1.1.0->flair) (0.16.0)\n",
            "Requirement already satisfied: scipy>=0.17.0 in /usr/local/lib/python3.6/dist-packages (from scikit-learn>=0.21.3->flair) (1.4.1)\n",
            "Requirement already satisfied: joblib>=0.11 in /usr/local/lib/python3.6/dist-packages (from scikit-learn>=0.21.3->flair) (0.16.0)\n",
            "Requirement already satisfied: six>=1.5.0 in /usr/local/lib/python3.6/dist-packages (from gensim>=3.4.0->flair) (1.15.0)\n",
            "Requirement already satisfied: smart-open>=1.2.1 in /usr/local/lib/python3.6/dist-packages (from gensim>=3.4.0->flair) (2.1.1)\n",
            "Requirement already satisfied: wrapt<2,>=1.10 in /usr/local/lib/python3.6/dist-packages (from deprecated>=1.2.4->flair) (1.12.1)\n",
            "Requirement already satisfied: wcwidth in /usr/local/lib/python3.6/dist-packages (from ftfy->flair) (0.2.5)\n",
            "Requirement already satisfied: networkx in /usr/local/lib/python3.6/dist-packages (from hyperopt>=0.1.1->flair) (2.5)\n",
            "Requirement already satisfied: pymongo in /usr/local/lib/python3.6/dist-packages (from hyperopt>=0.1.1->flair) (3.11.0)\n",
            "Requirement already satisfied: requests in /usr/local/lib/python3.6/dist-packages (from bpemb>=0.3.2->flair) (2.23.0)\n",
            "Collecting overrides==3.0.0\n",
            "  Downloading https://files.pythonhosted.org/packages/42/8d/caa729f809ecdf8e76fac3c1ff7d3f0b72c398c9dd8a6919927a30a873b3/overrides-3.0.0.tar.gz\n",
            "Requirement already satisfied: kiwisolver>=1.0.1 in /usr/local/lib/python3.6/dist-packages (from matplotlib>=2.2.3->flair) (1.2.0)\n",
            "Requirement already satisfied: cycler>=0.10 in /usr/local/lib/python3.6/dist-packages (from matplotlib>=2.2.3->flair) (0.10.0)\n",
            "Requirement already satisfied: pyparsing!=2.0.4,!=2.1.2,!=2.1.6,>=2.0.1 in /usr/local/lib/python3.6/dist-packages (from matplotlib>=2.2.3->flair) (2.4.7)\n",
            "Requirement already satisfied: packaging in /usr/local/lib/python3.6/dist-packages (from transformers>=3.0.0->flair) (20.4)\n",
            "Requirement already satisfied: filelock in /usr/local/lib/python3.6/dist-packages (from transformers>=3.0.0->flair) (3.0.12)\n",
            "Collecting tokenizers==0.8.1.rc2\n",
            "\u001b[?25l  Downloading https://files.pythonhosted.org/packages/80/83/8b9fccb9e48eeb575ee19179e2bdde0ee9a1904f97de5f02d19016b8804f/tokenizers-0.8.1rc2-cp36-cp36m-manylinux1_x86_64.whl (3.0MB)\n",
            "\u001b[K     |████████████████████████████████| 3.0MB 45.9MB/s \n",
            "\u001b[?25hCollecting sacremoses\n",
            "\u001b[?25l  Downloading https://files.pythonhosted.org/packages/7d/34/09d19aff26edcc8eb2a01bed8e98f13a1537005d31e95233fd48216eed10/sacremoses-0.0.43.tar.gz (883kB)\n",
            "\u001b[K     |████████████████████████████████| 890kB 59.7MB/s \n",
            "\u001b[?25hRequirement already satisfied: dataclasses; python_version < \"3.7\" in /usr/local/lib/python3.6/dist-packages (from transformers>=3.0.0->flair) (0.7)\n",
            "Requirement already satisfied: iniconfig in /usr/local/lib/python3.6/dist-packages (from pytest>=5.3.2->flair) (1.0.1)\n",
            "Requirement already satisfied: py>=1.8.2 in /usr/local/lib/python3.6/dist-packages (from pytest>=5.3.2->flair) (1.9.0)\n",
            "Collecting pluggy<1.0,>=0.12\n",
            "  Downloading https://files.pythonhosted.org/packages/a0/28/85c7aa31b80d150b772fbe4a229487bc6644da9ccb7e427dd8cc60cb8a62/pluggy-0.13.1-py2.py3-none-any.whl\n",
            "Requirement already satisfied: attrs>=17.4.0 in /usr/local/lib/python3.6/dist-packages (from pytest>=5.3.2->flair) (20.2.0)\n",
            "Requirement already satisfied: importlib-metadata>=0.12; python_version < \"3.8\" in /usr/local/lib/python3.6/dist-packages (from pytest>=5.3.2->flair) (1.7.0)\n",
            "Requirement already satisfied: more-itertools>=4.0.0 in /usr/local/lib/python3.6/dist-packages (from pytest>=5.3.2->flair) (8.5.0)\n",
            "Requirement already satisfied: toml in /usr/local/lib/python3.6/dist-packages (from pytest>=5.3.2->flair) (0.10.1)\n",
            "Requirement already satisfied: boto3 in /usr/local/lib/python3.6/dist-packages (from smart-open>=1.2.1->gensim>=3.4.0->flair) (1.14.63)\n",
            "Requirement already satisfied: boto in /usr/local/lib/python3.6/dist-packages (from smart-open>=1.2.1->gensim>=3.4.0->flair) (2.49.0)\n",
            "Requirement already satisfied: decorator>=4.3.0 in /usr/local/lib/python3.6/dist-packages (from networkx->hyperopt>=0.1.1->flair) (4.4.2)\n",
            "Requirement already satisfied: certifi>=2017.4.17 in /usr/local/lib/python3.6/dist-packages (from requests->bpemb>=0.3.2->flair) (2020.6.20)\n",
            "Requirement already satisfied: chardet<4,>=3.0.2 in /usr/local/lib/python3.6/dist-packages (from requests->bpemb>=0.3.2->flair) (3.0.4)\n",
            "Requirement already satisfied: idna<3,>=2.5 in /usr/local/lib/python3.6/dist-packages (from requests->bpemb>=0.3.2->flair) (2.10)\n",
            "Requirement already satisfied: urllib3!=1.25.0,!=1.25.1,<1.26,>=1.21.1 in /usr/local/lib/python3.6/dist-packages (from requests->bpemb>=0.3.2->flair) (1.24.3)\n",
            "Requirement already satisfied: click in /usr/local/lib/python3.6/dist-packages (from sacremoses->transformers>=3.0.0->flair) (7.1.2)\n",
            "Requirement already satisfied: zipp>=0.5 in /usr/local/lib/python3.6/dist-packages (from importlib-metadata>=0.12; python_version < \"3.8\"->pytest>=5.3.2->flair) (3.1.0)\n",
            "Requirement already satisfied: botocore<1.18.0,>=1.17.63 in /usr/local/lib/python3.6/dist-packages (from boto3->smart-open>=1.2.1->gensim>=3.4.0->flair) (1.17.63)\n",
            "Requirement already satisfied: jmespath<1.0.0,>=0.7.1 in /usr/local/lib/python3.6/dist-packages (from boto3->smart-open>=1.2.1->gensim>=3.4.0->flair) (0.10.0)\n",
            "Requirement already satisfied: s3transfer<0.4.0,>=0.3.0 in /usr/local/lib/python3.6/dist-packages (from boto3->smart-open>=1.2.1->gensim>=3.4.0->flair) (0.3.3)\n",
            "Requirement already satisfied: docutils<0.16,>=0.10 in /usr/local/lib/python3.6/dist-packages (from botocore<1.18.0,>=1.17.63->boto3->smart-open>=1.2.1->gensim>=3.4.0->flair) (0.15.2)\n",
            "Building wheels for collected packages: segtok, ftfy, langdetect, sqlitedict, mpld3, overrides, sacremoses\n",
            "  Building wheel for segtok (setup.py) ... \u001b[?25l\u001b[?25hdone\n",
            "  Created wheel for segtok: filename=segtok-1.5.10-cp36-none-any.whl size=25021 sha256=f30b978bcdf98b7746fda7beb2431437a79c2c5ee943fb22baf3b69a09facbe7\n",
            "  Stored in directory: /root/.cache/pip/wheels/b4/39/f6/9ca1c5cabde964d728023b5751c3a206a5c8cc40252321fb6b\n",
            "  Building wheel for ftfy (setup.py) ... \u001b[?25l\u001b[?25hdone\n",
            "  Created wheel for ftfy: filename=ftfy-5.8-cp36-none-any.whl size=45612 sha256=259e331689b32c4bdd742a8242a54bdb7733de1b86fc291cd18c434b8ca3a5fc\n",
            "  Stored in directory: /root/.cache/pip/wheels/ba/c0/ef/f28c4da5ac84a4e06ac256ca9182fc34fa57fefffdbc68425b\n",
            "  Building wheel for langdetect (setup.py) ... \u001b[?25l\u001b[?25hdone\n",
            "  Created wheel for langdetect: filename=langdetect-1.0.8-cp36-none-any.whl size=993195 sha256=dbc527c28e1a9bdb5c921754294702aafddc5621f392189a9e7ef037ab687122\n",
            "  Stored in directory: /root/.cache/pip/wheels/8d/b3/aa/6d99de9f3841d7d3d40a60ea06e6d669e8e5012e6c8b947a57\n",
            "  Building wheel for sqlitedict (setup.py) ... \u001b[?25l\u001b[?25hdone\n",
            "  Created wheel for sqlitedict: filename=sqlitedict-1.7.0-cp36-none-any.whl size=14377 sha256=3d4faa78d58079f12bd6f9e2d6365f047957ea7472aa6837b40590de7ba99bad\n",
            "  Stored in directory: /root/.cache/pip/wheels/cf/c6/4f/2c64a43f041415eb8b8740bd80e15e92f0d46c5e464d8e4b9b\n",
            "  Building wheel for mpld3 (setup.py) ... \u001b[?25l\u001b[?25hdone\n",
            "  Created wheel for mpld3: filename=mpld3-0.3-cp36-none-any.whl size=116677 sha256=309c31abe9572421d5544cc913bb962bdafcd87bf4c4221630fa65cc1eb55f45\n",
            "  Stored in directory: /root/.cache/pip/wheels/c0/47/fb/8a64f89aecfe0059830479308ad42d62e898a3e3cefdf6ba28\n",
            "  Building wheel for overrides (setup.py) ... \u001b[?25l\u001b[?25hdone\n",
            "  Created wheel for overrides: filename=overrides-3.0.0-cp36-none-any.whl size=5669 sha256=0f0b2bb68887938ccab2abff58d9d6e839ce437f1bc1f3ee0f5f80b2b7ab0d4f\n",
            "  Stored in directory: /root/.cache/pip/wheels/6f/1b/ec/6c71a1eb823df7f850d956b2d8c50a6d49c191e1063d73b9be\n",
            "  Building wheel for sacremoses (setup.py) ... \u001b[?25l\u001b[?25hdone\n",
            "  Created wheel for sacremoses: filename=sacremoses-0.0.43-cp36-none-any.whl size=893257 sha256=771687576b091b05e069527c2d89125ce1ad2e7978970dcc1b6390803a55a81b\n",
            "  Stored in directory: /root/.cache/pip/wheels/29/3c/fd/7ce5c3f0666dab31a50123635e6fb5e19ceb42ce38d4e58f45\n",
            "Successfully built segtok ftfy langdetect sqlitedict mpld3 overrides sacremoses\n",
            "\u001b[31mERROR: datascience 0.10.6 has requirement folium==0.2.1, but you'll have folium 0.8.3 which is incompatible.\u001b[0m\n",
            "Installing collected packages: segtok, deprecated, ftfy, sentencepiece, bpemb, overrides, konoha, langdetect, sqlitedict, mpld3, janome, tokenizers, sacremoses, transformers, pluggy, pytest, flair\n",
            "  Found existing installation: pluggy 0.7.1\n",
            "    Uninstalling pluggy-0.7.1:\n",
            "      Successfully uninstalled pluggy-0.7.1\n",
            "  Found existing installation: pytest 3.6.4\n",
            "    Uninstalling pytest-3.6.4:\n",
            "      Successfully uninstalled pytest-3.6.4\n",
            "Successfully installed bpemb-0.3.2 deprecated-1.2.10 flair-0.6.1 ftfy-5.8 janome-0.4.1 konoha-4.6.1 langdetect-1.0.8 mpld3-0.3 overrides-3.0.0 pluggy-0.13.1 pytest-6.0.2 sacremoses-0.0.43 segtok-1.5.10 sentencepiece-0.1.91 sqlitedict-1.7.0 tokenizers-0.8.1rc2 transformers-3.2.0\n",
            "/usr/lib/python3.6/runpy.py:125: RuntimeWarning: 'nltk.downloader' found in sys.modules after import of package 'nltk', but prior to execution of 'nltk.downloader'; this may result in unpredictable behaviour\n",
            "  warn(RuntimeWarning(msg))\n",
            "[nltk_data] Downloading package punkt to /root/nltk_data...\n",
            "[nltk_data]   Unzipping tokenizers/punkt.zip.\n",
            "Collecting spacy==2.1.0\n",
            "\u001b[?25l  Downloading https://files.pythonhosted.org/packages/62/39/4bde5da5f18ab0bdd525760c4fe38808b4bb03907a2aea094000d831afe1/spacy-2.1.0-cp36-cp36m-manylinux1_x86_64.whl (27.7MB)\n",
            "\u001b[K     |████████████████████████████████| 27.7MB 112kB/s \n",
            "\u001b[?25hCollecting preshed<2.1.0,>=2.0.1\n",
            "\u001b[?25l  Downloading https://files.pythonhosted.org/packages/20/93/f222fb957764a283203525ef20e62008675fd0a14ffff8cc1b1490147c63/preshed-2.0.1-cp36-cp36m-manylinux1_x86_64.whl (83kB)\n",
            "\u001b[K     |████████████████████████████████| 92kB 11.4MB/s \n",
            "\u001b[?25hRequirement already satisfied: jsonschema<3.0.0,>=2.6.0 in /usr/local/lib/python3.6/dist-packages (from spacy==2.1.0) (2.6.0)\n",
            "Requirement already satisfied: numpy>=1.15.0 in /usr/local/lib/python3.6/dist-packages (from spacy==2.1.0) (1.18.5)\n",
            "Collecting plac<1.0.0,>=0.9.6\n",
            "  Downloading https://files.pythonhosted.org/packages/9e/9b/62c60d2f5bc135d2aa1d8c8a86aaf84edb719a59c7f11a4316259e61a298/plac-0.9.6-py2.py3-none-any.whl\n",
            "Requirement already satisfied: cymem<2.1.0,>=2.0.2 in /usr/local/lib/python3.6/dist-packages (from spacy==2.1.0) (2.0.3)\n",
            "Requirement already satisfied: murmurhash<1.1.0,>=0.28.0 in /usr/local/lib/python3.6/dist-packages (from spacy==2.1.0) (1.0.2)\n",
            "Collecting blis<0.3.0,>=0.2.2\n",
            "\u001b[?25l  Downloading https://files.pythonhosted.org/packages/34/46/b1d0bb71d308e820ed30316c5f0a017cb5ef5f4324bcbc7da3cf9d3b075c/blis-0.2.4-cp36-cp36m-manylinux1_x86_64.whl (3.2MB)\n",
            "\u001b[K     |████████████████████████████████| 3.2MB 46.6MB/s \n",
            "\u001b[?25hRequirement already satisfied: srsly<1.1.0,>=0.0.5 in /usr/local/lib/python3.6/dist-packages (from spacy==2.1.0) (1.0.2)\n",
            "Requirement already satisfied: requests<3.0.0,>=2.13.0 in /usr/local/lib/python3.6/dist-packages (from spacy==2.1.0) (2.23.0)\n",
            "Collecting thinc<7.1.0,>=7.0.2\n",
            "\u001b[?25l  Downloading https://files.pythonhosted.org/packages/18/a5/9ace20422e7bb1bdcad31832ea85c52a09900cd4a7ce711246bfb92206ba/thinc-7.0.8-cp36-cp36m-manylinux1_x86_64.whl (2.1MB)\n",
            "\u001b[K     |████████████████████████████████| 2.1MB 59.6MB/s \n",
            "\u001b[?25hRequirement already satisfied: wasabi<1.1.0,>=0.0.12 in /usr/local/lib/python3.6/dist-packages (from spacy==2.1.0) (0.8.0)\n",
            "Requirement already satisfied: chardet<4,>=3.0.2 in /usr/local/lib/python3.6/dist-packages (from requests<3.0.0,>=2.13.0->spacy==2.1.0) (3.0.4)\n",
            "Requirement already satisfied: idna<3,>=2.5 in /usr/local/lib/python3.6/dist-packages (from requests<3.0.0,>=2.13.0->spacy==2.1.0) (2.10)\n",
            "Requirement already satisfied: certifi>=2017.4.17 in /usr/local/lib/python3.6/dist-packages (from requests<3.0.0,>=2.13.0->spacy==2.1.0) (2020.6.20)\n",
            "Requirement already satisfied: urllib3!=1.25.0,!=1.25.1,<1.26,>=1.21.1 in /usr/local/lib/python3.6/dist-packages (from requests<3.0.0,>=2.13.0->spacy==2.1.0) (1.24.3)\n",
            "Requirement already satisfied: tqdm<5.0.0,>=4.10.0 in /usr/local/lib/python3.6/dist-packages (from thinc<7.1.0,>=7.0.2->spacy==2.1.0) (4.41.1)\n",
            "\u001b[31mERROR: en-core-web-sm 2.2.5 has requirement spacy>=2.2.2, but you'll have spacy 2.1.0 which is incompatible.\u001b[0m\n",
            "Installing collected packages: preshed, plac, blis, thinc, spacy\n",
            "  Found existing installation: preshed 3.0.2\n",
            "    Uninstalling preshed-3.0.2:\n",
            "      Successfully uninstalled preshed-3.0.2\n",
            "  Found existing installation: plac 1.1.3\n",
            "    Uninstalling plac-1.1.3:\n",
            "      Successfully uninstalled plac-1.1.3\n",
            "  Found existing installation: blis 0.4.1\n",
            "    Uninstalling blis-0.4.1:\n",
            "      Successfully uninstalled blis-0.4.1\n",
            "  Found existing installation: thinc 7.4.0\n",
            "    Uninstalling thinc-7.4.0:\n",
            "      Successfully uninstalled thinc-7.4.0\n",
            "  Found existing installation: spacy 2.2.4\n",
            "    Uninstalling spacy-2.2.4:\n",
            "      Successfully uninstalled spacy-2.2.4\n",
            "Successfully installed blis-0.2.4 plac-0.9.6 preshed-2.0.1 spacy-2.1.0 thinc-7.0.8\n",
            "Collecting en_core_web_sm==2.1.0\n",
            "\u001b[?25l  Downloading https://github.com/explosion/spacy-models/releases/download/en_core_web_sm-2.1.0/en_core_web_sm-2.1.0.tar.gz (11.1MB)\n",
            "\u001b[K     |████████████████████████████████| 11.1MB 1.2MB/s \n",
            "\u001b[?25hBuilding wheels for collected packages: en-core-web-sm\n",
            "  Building wheel for en-core-web-sm (setup.py) ... \u001b[?25l\u001b[?25hdone\n",
            "  Created wheel for en-core-web-sm: filename=en_core_web_sm-2.1.0-cp36-none-any.whl size=11074435 sha256=5b67dd45f2ee5985a6fa628c2e525aa622f9d40437b2368f4ff14d5b37f0829d\n",
            "  Stored in directory: /tmp/pip-ephem-wheel-cache-hdfbn762/wheels/39/ea/3b/507f7df78be8631a7a3d7090962194cf55bc1158572c0be77f\n",
            "Successfully built en-core-web-sm\n",
            "Installing collected packages: en-core-web-sm\n",
            "  Found existing installation: en-core-web-sm 2.2.5\n",
            "    Uninstalling en-core-web-sm-2.2.5:\n",
            "      Successfully uninstalled en-core-web-sm-2.2.5\n",
            "Successfully installed en-core-web-sm-2.1.0\n",
            "\u001b[38;5;2m✔ Download and installation successful\u001b[0m\n",
            "You can now load the model via spacy.load('en_core_web_sm')\n",
            "\u001b[38;5;2m✔ Linking successful\u001b[0m\n",
            "/usr/local/lib/python3.6/dist-packages/en_core_web_sm -->\n",
            "/usr/local/lib/python3.6/dist-packages/spacy/data/en\n",
            "You can now load the model via spacy.load('en')\n",
            "Collecting neuralcoref\n",
            "\u001b[?25l  Downloading https://files.pythonhosted.org/packages/ea/24/0ec7845a5b73b637aa691ff4d1b9b48f3a0f3369f4002a59ffd7a7462fdb/neuralcoref-4.0-cp36-cp36m-manylinux1_x86_64.whl (287kB)\n",
            "\u001b[K     |████████████████████████████████| 296kB 3.5MB/s \n",
            "\u001b[?25hRequirement already satisfied: boto3 in /usr/local/lib/python3.6/dist-packages (from neuralcoref) (1.14.63)\n",
            "Requirement already satisfied: numpy>=1.15.0 in /usr/local/lib/python3.6/dist-packages (from neuralcoref) (1.18.5)\n",
            "Requirement already satisfied: spacy>=2.1.0 in /usr/local/lib/python3.6/dist-packages (from neuralcoref) (2.1.0)\n",
            "Requirement already satisfied: requests<3.0.0,>=2.13.0 in /usr/local/lib/python3.6/dist-packages (from neuralcoref) (2.23.0)\n",
            "Requirement already satisfied: s3transfer<0.4.0,>=0.3.0 in /usr/local/lib/python3.6/dist-packages (from boto3->neuralcoref) (0.3.3)\n",
            "Requirement already satisfied: botocore<1.18.0,>=1.17.63 in /usr/local/lib/python3.6/dist-packages (from boto3->neuralcoref) (1.17.63)\n",
            "Requirement already satisfied: jmespath<1.0.0,>=0.7.1 in /usr/local/lib/python3.6/dist-packages (from boto3->neuralcoref) (0.10.0)\n",
            "Requirement already satisfied: cymem<2.1.0,>=2.0.2 in /usr/local/lib/python3.6/dist-packages (from spacy>=2.1.0->neuralcoref) (2.0.3)\n",
            "Requirement already satisfied: jsonschema<3.0.0,>=2.6.0 in /usr/local/lib/python3.6/dist-packages (from spacy>=2.1.0->neuralcoref) (2.6.0)\n",
            "Requirement already satisfied: murmurhash<1.1.0,>=0.28.0 in /usr/local/lib/python3.6/dist-packages (from spacy>=2.1.0->neuralcoref) (1.0.2)\n",
            "Requirement already satisfied: srsly<1.1.0,>=0.0.5 in /usr/local/lib/python3.6/dist-packages (from spacy>=2.1.0->neuralcoref) (1.0.2)\n",
            "Requirement already satisfied: preshed<2.1.0,>=2.0.1 in /usr/local/lib/python3.6/dist-packages (from spacy>=2.1.0->neuralcoref) (2.0.1)\n",
            "Requirement already satisfied: plac<1.0.0,>=0.9.6 in /usr/local/lib/python3.6/dist-packages (from spacy>=2.1.0->neuralcoref) (0.9.6)\n",
            "Requirement already satisfied: blis<0.3.0,>=0.2.2 in /usr/local/lib/python3.6/dist-packages (from spacy>=2.1.0->neuralcoref) (0.2.4)\n",
            "Requirement already satisfied: wasabi<1.1.0,>=0.0.12 in /usr/local/lib/python3.6/dist-packages (from spacy>=2.1.0->neuralcoref) (0.8.0)\n",
            "Requirement already satisfied: thinc<7.1.0,>=7.0.2 in /usr/local/lib/python3.6/dist-packages (from spacy>=2.1.0->neuralcoref) (7.0.8)\n",
            "Requirement already satisfied: urllib3!=1.25.0,!=1.25.1,<1.26,>=1.21.1 in /usr/local/lib/python3.6/dist-packages (from requests<3.0.0,>=2.13.0->neuralcoref) (1.24.3)\n",
            "Requirement already satisfied: idna<3,>=2.5 in /usr/local/lib/python3.6/dist-packages (from requests<3.0.0,>=2.13.0->neuralcoref) (2.10)\n",
            "Requirement already satisfied: certifi>=2017.4.17 in /usr/local/lib/python3.6/dist-packages (from requests<3.0.0,>=2.13.0->neuralcoref) (2020.6.20)\n",
            "Requirement already satisfied: chardet<4,>=3.0.2 in /usr/local/lib/python3.6/dist-packages (from requests<3.0.0,>=2.13.0->neuralcoref) (3.0.4)\n",
            "Requirement already satisfied: python-dateutil<3.0.0,>=2.1 in /usr/local/lib/python3.6/dist-packages (from botocore<1.18.0,>=1.17.63->boto3->neuralcoref) (2.8.1)\n",
            "Requirement already satisfied: docutils<0.16,>=0.10 in /usr/local/lib/python3.6/dist-packages (from botocore<1.18.0,>=1.17.63->boto3->neuralcoref) (0.15.2)\n",
            "Requirement already satisfied: tqdm<5.0.0,>=4.10.0 in /usr/local/lib/python3.6/dist-packages (from thinc<7.1.0,>=7.0.2->spacy>=2.1.0->neuralcoref) (4.41.1)\n",
            "Requirement already satisfied: six>=1.5 in /usr/local/lib/python3.6/dist-packages (from python-dateutil<3.0.0,>=2.1->botocore<1.18.0,>=1.17.63->boto3->neuralcoref) (1.15.0)\n",
            "Installing collected packages: neuralcoref\n",
            "Successfully installed neuralcoref-4.0\n"
          ],
          "name": "stdout"
        }
      ]
    },
    {
      "cell_type": "code",
      "metadata": {
        "id": "0-lTCvn9rjDB"
      },
      "source": [
        "from google.colab import drive\n",
        "import glob\n",
        "import pandas as pd\n",
        "import numpy as np\n",
        "import torch\n",
        "from torch.utils.data import Dataset, DataLoader\n",
        "import torch.nn as nn\n",
        "import torch.nn.functional as F\n",
        "import warnings\n",
        "warnings.filterwarnings(\"ignore\")\n",
        "import logging\n",
        "from sklearn.feature_extraction.text import TfidfTransformer\n",
        "from sklearn.feature_extraction.text import CountVectorizer\n",
        "import pandas as pd\n",
        "import random\n",
        "\n",
        "class DisableLogger():\n",
        "    def __enter__(self):\n",
        "       logging.disable(logging.CRITICAL)\n",
        "    def __exit__(self, a, b, c):\n",
        "       logging.disable(logging.NOTSET)\n"
      ],
      "execution_count": null,
      "outputs": []
    },
    {
      "cell_type": "code",
      "metadata": {
        "id": "fWCtBEN2s7z_",
        "colab": {
          "base_uri": "https://localhost:8080/",
          "height": 35
        },
        "outputId": "b1d97350-80b6-4859-92aa-a51bc6706aa9"
      },
      "source": [
        "drive.mount(\"/content/gdrive\")"
      ],
      "execution_count": null,
      "outputs": [
        {
          "output_type": "stream",
          "text": [
            "Mounted at /content/gdrive\n"
          ],
          "name": "stdout"
        }
      ]
    },
    {
      "cell_type": "code",
      "metadata": {
        "id": "97SKRxtrs9kX"
      },
      "source": [
        "dataset_root = \"/content/gdrive/My Drive/CMU/School/NLP/data/Development_data\"\n",
        "DEVICE = \"cuda\" if torch.cuda.is_available() else \"cpu\""
      ],
      "execution_count": null,
      "outputs": []
    },
    {
      "cell_type": "code",
      "metadata": {
        "id": "OY3OT-dbscGD"
      },
      "source": [
        "import string  \n",
        "def load_and_preprocess(filename, joined=True):\n",
        "  raw = open(filename, 'r', encoding='utf8').read()\n",
        "  lines = raw.split(\"\\n\")\n",
        "  lines = [l for l in lines if len(l) > 0 and l[-1] in string.punctuation]\n",
        "  return \" \".join(lines) if joined else lines"
      ],
      "execution_count": null,
      "outputs": []
    },
    {
      "cell_type": "code",
      "metadata": {
        "id": "qkFuH3KBXKIW",
        "colab": {
          "base_uri": "https://localhost:8080/",
          "height": 283,
          "referenced_widgets": [
            "de0ffec53a204b4fa7156108d821c5d9",
            "b5c0ef14cef948c49b50c111af68a813",
            "dd0810883e6c4cdd8204e0285ca4542a",
            "9d40cb58391043f1913f819bdbb64d0b",
            "80b57830449c4c2d98b50ade97e17adb",
            "83f361d4eda344dba4c9b925c028e306",
            "ec7531d77d2e428baa7c380dfedd748b",
            "6166f2581c8443c7bf16f982d69a3c35",
            "474dd63b8dda4864b9075e7ad09b805f",
            "8626dda5ad8a47858ca64d0542840ef0",
            "3a8803c68d0b47e9971c253fa317256f",
            "2d51e58df3954420840e476c84080b59",
            "fdc5e03a431a4bc19cb8131dd9dbebfc",
            "aea6e7d0ccb6467ea43975d2187080f5",
            "fb26cb8fa3294f88a7396713a61c22f2",
            "36885144337c4272abf8ea730e728430",
            "6d91f2be8606485a9cdf456f82aaf432",
            "9fd6a4ac5afd457db3380458987e2bc4",
            "bcbd6d0354ff444593773d4cf5ce0aa2",
            "be83612583a54a1399dbe16e010429e6",
            "a917267669b24fdaad7e3abd6ba9f114",
            "a9240ad544cd4e5395e3ce495ffce11f",
            "d5c2b3748617481d9fabd030513321ad",
            "8e564616d0b349858cc8506ae82b03eb",
            "a7c418f8fd23436c81be9b997b76e765",
            "09028711df354cfba8626c6397e8f44d",
            "13cf9520e0d743248927f8e5d1ba3ab6",
            "de5a7b8f3e20461687c77552642b6e8c",
            "4f0152db410844b593c2e838a556c956",
            "e3d0bf33906b426bacb7065d456fb644",
            "c4d9dc38992e4a2abfaf37517defac88",
            "9bc1dedf3d2a4b348fa9e47a54067be0"
          ]
        },
        "outputId": "6a76d935-cf35-49ba-ca08-fc7965271e6e"
      },
      "source": [
        "from flair.embeddings import FlairEmbeddings, RoBERTaEmbeddings\n",
        "from flair.data import Sentence\n",
        "\n",
        "from flair.models import SequenceTagger\n",
        "\n",
        "from flair.embeddings import DocumentMeanEmbeddings\n",
        "\n",
        "with DisableLogger():\n",
        "  bert_embeddings = RoBERTaEmbeddings(pretrained_model_name_or_path=\"roberta-large\", layers=\"0,1,2,3,4,5,6,7,8,9,10,11,12\",\n",
        "                                pooling_operation=\"first\", use_scalar_mix=True)\n",
        "\n",
        "  document_embeddings = DocumentMeanEmbeddings([bert_embeddings])\n",
        "\n",
        "  tagger = SequenceTagger.load('ner')"
      ],
      "execution_count": null,
      "outputs": [
        {
          "output_type": "display_data",
          "data": {
            "application/vnd.jupyter.widget-view+json": {
              "model_id": "de0ffec53a204b4fa7156108d821c5d9",
              "version_minor": 0,
              "version_major": 2
            },
            "text/plain": [
              "HBox(children=(FloatProgress(value=0.0, description='Downloading', max=898823.0, style=ProgressStyle(descripti…"
            ]
          },
          "metadata": {
            "tags": []
          }
        },
        {
          "output_type": "stream",
          "text": [
            "\n"
          ],
          "name": "stdout"
        },
        {
          "output_type": "display_data",
          "data": {
            "application/vnd.jupyter.widget-view+json": {
              "model_id": "474dd63b8dda4864b9075e7ad09b805f",
              "version_minor": 0,
              "version_major": 2
            },
            "text/plain": [
              "HBox(children=(FloatProgress(value=0.0, description='Downloading', max=456318.0, style=ProgressStyle(descripti…"
            ]
          },
          "metadata": {
            "tags": []
          }
        },
        {
          "output_type": "stream",
          "text": [
            "\n"
          ],
          "name": "stdout"
        },
        {
          "output_type": "display_data",
          "data": {
            "application/vnd.jupyter.widget-view+json": {
              "model_id": "6d91f2be8606485a9cdf456f82aaf432",
              "version_minor": 0,
              "version_major": 2
            },
            "text/plain": [
              "HBox(children=(FloatProgress(value=0.0, description='Downloading', max=482.0, style=ProgressStyle(description_…"
            ]
          },
          "metadata": {
            "tags": []
          }
        },
        {
          "output_type": "stream",
          "text": [
            "\n"
          ],
          "name": "stdout"
        },
        {
          "output_type": "display_data",
          "data": {
            "application/vnd.jupyter.widget-view+json": {
              "model_id": "a7c418f8fd23436c81be9b997b76e765",
              "version_minor": 0,
              "version_major": 2
            },
            "text/plain": [
              "HBox(children=(FloatProgress(value=0.0, description='Downloading', max=1425941629.0, style=ProgressStyle(descr…"
            ]
          },
          "metadata": {
            "tags": []
          }
        },
        {
          "output_type": "stream",
          "text": [
            "\n"
          ],
          "name": "stdout"
        },
        {
          "output_type": "stream",
          "text": [
            "100%|██████████| 432197603/432197603 [00:19<00:00, 22280169.29B/s]\n"
          ],
          "name": "stderr"
        }
      ]
    },
    {
      "cell_type": "code",
      "metadata": {
        "id": "2rlFXbD_QyyL",
        "colab": {
          "base_uri": "https://localhost:8080/",
          "height": 55
        },
        "outputId": "886df2fe-bb0e-425b-966b-a141923ebaeb"
      },
      "source": [
        "import spacy\n",
        "import neuralcoref\n",
        "nlp = spacy.load(\"en\")\n",
        "_ = neuralcoref.add_to_pipe(nlp)"
      ],
      "execution_count": null,
      "outputs": [
        {
          "output_type": "stream",
          "text": [
            "100%|██████████| 40155833/40155833 [00:00<00:00, 56561667.80B/s]\n"
          ],
          "name": "stderr"
        }
      ]
    },
    {
      "cell_type": "code",
      "metadata": {
        "id": "7VaS1JK8BSwo"
      },
      "source": [
        "doc_text = load_and_preprocess('/content/gdrive/My Drive/CMU/School/NLP/data/Development_data/set3/a2.txt')\n",
        "query = \"What did Chris and Ryan Kitteridge do when their son was a prisoner in the house of Masters of the Hall north of Saffron City?\""
      ],
      "execution_count": null,
      "outputs": []
    },
    {
      "cell_type": "code",
      "metadata": {
        "id": "hH1L-Av2blBh"
      },
      "source": [
        "query_doc = nlp(query)\n",
        "combined_text = doc_text + \"\\n\" + query\n",
        "combined_doc = nlp(combined_text)\n",
        "from nltk.tokenize import sent_tokenize\n",
        "sent_text = sent_tokenize(doc_text)"
      ],
      "execution_count": null,
      "outputs": []
    },
    {
      "cell_type": "code",
      "metadata": {
        "id": "TKXFRWf4X5w1"
      },
      "source": [
        "import re\n",
        "\n",
        "from spacy.matcher import Matcher\n",
        "\n",
        "def get_corefd_sentence(s):\n",
        "  matcher = Matcher(nlp.vocab)\n",
        "  s_doc = nlp(s)\n",
        "  pattern = [{\"TEXT\": token.text} for token in s_doc]\n",
        "  matcher.add(\"SMatch\", None, pattern)\n",
        "  matches = matcher(combined_doc)\n",
        "  for match_id, start, end in matches:\n",
        "    span = combined_doc[start:end]  \n",
        "    return span\n",
        "  return None\n",
        "\n",
        "def dep_sentence(s):\n",
        "  lookup_s = get_corefd_sentence(s)\n",
        "  if lookup_s is None:\n",
        "    lookup_s = nlp(s)\n",
        "  deps = []\n",
        "  for token in lookup_s:\n",
        "    if token._.in_coref:\n",
        "      key = token._.coref_clusters[0].main.text.lower()\n",
        "    else:\n",
        "      key = token.lemma_.lower()\n",
        "    deps.append((\"head\", key, token.head.text.lower()))\n",
        "    deps.append((\"dep\", key, token.dep_))\n",
        "  return deps\n",
        "\n",
        "def word_sentence_featurize(s):\n",
        "  lookup_s = get_corefd_sentence(s)\n",
        "  if lookup_s is None:\n",
        "    lookup_s = nlp(s)\n",
        "  \n",
        "  tokens = []\n",
        "  for token in lookup_s:\n",
        "    if token.is_stop:\n",
        "      continue\n",
        "    else:\n",
        "      if token._.in_coref:\n",
        "        tokens.append(token._.coref_clusters[0].main.text.lower())\n",
        "      else:\n",
        "        tokens.append(token.lemma_.lower())\n",
        "  return \" \".join([t.lower() for t in tokens])\n",
        "\n",
        "def dep_sentence_featurize(s):\n",
        "  sentence_deps = dep_sentence(s)\n",
        "  return \" \".join([str(d).replace(\" \", \"_\") for d in sentence_deps])"
      ],
      "execution_count": null,
      "outputs": []
    },
    {
      "cell_type": "code",
      "metadata": {
        "id": "aiuK2DI5h1uj"
      },
      "source": [
        "sent_words = [word_sentence_featurize(s) for s in sent_text]"
      ],
      "execution_count": null,
      "outputs": []
    },
    {
      "cell_type": "code",
      "metadata": {
        "id": "ueYAny0OUP7P"
      },
      "source": [
        "cv_words = CountVectorizer(analyzer=lambda x : x.split(\" \"))\n",
        "word_count_vector = cv_words.fit_transform(sent_words)\n",
        "tfidf_transformer_words = TfidfTransformer(smooth_idf=True,use_idf=True)\n",
        "_ = tfidf_transformer_words.fit(word_count_vector)"
      ],
      "execution_count": null,
      "outputs": []
    },
    {
      "cell_type": "code",
      "metadata": {
        "id": "4N5Cqg6kX0gF"
      },
      "source": [
        "sent_deps = [dep_sentence_featurize(s) for s in sent_text]"
      ],
      "execution_count": null,
      "outputs": []
    },
    {
      "cell_type": "code",
      "metadata": {
        "id": "XSQZYaIUWx-B"
      },
      "source": [
        "cv_deps = CountVectorizer(analyzer=lambda x : x.split(\" \"))\n",
        "dep_count_vector = cv_deps.fit_transform(sent_deps)\n",
        "tfidf_transformer_deps = TfidfTransformer(smooth_idf=True,use_idf=True)\n",
        "_ = tfidf_transformer_deps.fit(dep_count_vector)"
      ],
      "execution_count": null,
      "outputs": []
    },
    {
      "cell_type": "code",
      "metadata": {
        "id": "NzLDZMaGA1MA"
      },
      "source": [
        "def embed_sentence(s):\n",
        "  sentence = Sentence(s)\n",
        "  document_embeddings.embed(sentence)\n",
        "  return (s, sentence.get_embedding().cpu().data.numpy(), tfidf_transformer_words.transform(cv_words.transform([word_sentence_featurize(s)])).toarray().reshape(-1), tfidf_transformer_deps.transform(cv_deps.transform([dep_sentence_featurize(s)])).toarray().reshape(-1))\n",
        "\n",
        "def cos_sim(p):\n",
        "  a, b = p\n",
        "  return np.dot(a, b) / (np.linalg.norm(a) * np.linalg.norm(b))\n",
        "\n",
        "def compare_query(p):\n",
        "  qv, sp = p\n",
        "  similarity1 = cos_sim((qv[1], sp[1]))\n",
        "  similarity2 = cos_sim((qv[2], sp[2]))\n",
        "  similarity3 = cos_sim((qv[3], sp[3]))\n",
        "  similarities = [similarity1, similarity2, similarity3]\n",
        "  similarity = np.array(similarities).mean()\n",
        "  return sp[0], similarity, similarities"
      ],
      "execution_count": null,
      "outputs": []
    },
    {
      "cell_type": "code",
      "metadata": {
        "id": "7DJIcmomEdu0"
      },
      "source": [
        "embedded_sentences = list(map(embed_sentence, sent_text))"
      ],
      "execution_count": null,
      "outputs": []
    },
    {
      "cell_type": "code",
      "metadata": {
        "id": "Krms0zs0FJja"
      },
      "source": [
        "query_vec = embed_sentence(query)"
      ],
      "execution_count": null,
      "outputs": []
    },
    {
      "cell_type": "code",
      "metadata": {
        "id": "tlXPPEJPKTOb"
      },
      "source": [
        "query_pairs = [(query_vec, e) for e in embedded_sentences]"
      ],
      "execution_count": null,
      "outputs": []
    },
    {
      "cell_type": "code",
      "metadata": {
        "id": "NRuQa0pfI0Cq"
      },
      "source": [
        "distances = list(map(compare_query, query_pairs))"
      ],
      "execution_count": null,
      "outputs": []
    },
    {
      "cell_type": "code",
      "metadata": {
        "id": "L83YlQqSKEIA"
      },
      "source": [
        "r = sorted(distances, key=lambda x : x[1])\n",
        "distances_sorted = [(len(r) - 1 - i, r[i]) for i in range(len(r))]"
      ],
      "execution_count": null,
      "outputs": []
    },
    {
      "cell_type": "code",
      "metadata": {
        "id": "ugnIzwo53GED",
        "colab": {
          "base_uri": "https://localhost:8080/",
          "height": 55
        },
        "outputId": "0b2748e6-ab97-413d-cfac-4790fbf8e23d"
      },
      "source": [
        "print(distances_sorted[::-1])"
      ],
      "execution_count": null,
      "outputs": [
        {
          "output_type": "stream",
          "text": [
            "[(0, ('The portrayals of Ash in the manga The Electric Tale of Pikachu, and Ash & Pikachu, are very similar to the one in the anime.', 0.4438873299612654, [0.96964544, 0.32389450382034324, 0.038122045484992186])), (1, (\"The Electric Tale of Pikachu is based on Ash's journey up until the end of the Orange Islands travel.\", 0.43238092080831514, [0.9701172, 0.295171931197138, 0.03185361988594963])), (2, ('As the enduring comical villains of the series, the Team Rocket trio occasionally show signs of goodness, such as care and friendship with their Pokémon and each other, and despite their constant antagonism, they occasionally put their differences aside and work together with Ash against a common threat, such as in Pokémon: The Movie 2000, where they aid Ash in retrieving the three treasures in order to save the world.', 0.4135102626591083, [0.97043115, 0.20944765130208617, 0.0606519876693487])), (3, ('Bart remarks \"Wow, how does this show stay so fresh?', 0.41186449488336724, [0.9615154, 0.13030240140815916, 0.1437756566062006])), (4, (\"In episode 28 of the nineteenth season (Pokémon the Series: XYZ), 'Seeing the Forest for the Trees!,' It reveals the true story of why Ash Ketchum loved Pokémon, when Ash was a little boy, he went on a field trip.\", 0.3786059082047708, [0.97721606, 0.0, 0.15860165968435036])), (5, ('During localization of both for North American audiences, the character\\'s name was changed in the anime to \"Ash Ketchum\", the first name taken from one of the possible default names players could select for the player character in Pokémon Red and Blue, and the surname tying into the former tagline (and as of Pokémon XY revived) for the series, \"Gotta catch \\'em all!\"', 0.37006387093482207, [0.96989346, 0.05999587874828979, 0.0803022785508054])), (6, ('He is now widely considered a figurehead character of the wave of anime in the late 90s; which is credited by most anime fans as having popularized anime in the west, alongside the likes of Goku of Dragon Ball Z and Sailor Moon of the show with the same name.', 0.3671350872578331, [0.9712341, 0.0, 0.13017117859784016])), (7, (\"After the tournament, Ash and his friends help defend Lumiose City from Team Flare, the local evil organization, helped by Alain, who once was a member of Team Flare himself, but had a change of heart thanks to Ash's influence.\", 0.366073259214478, [0.97540474, 0.06698091807849388, 0.05583412018505723])), (8, ('As the protagonist of the Pokémon anime, Ash has appeared in all episodes of the anime, all the films and several of the television specials.', 0.3604229825837604, [0.96553236, 0.0, 0.11573658529019114])), (9, ('For the English dubbing, Veronica Taylor provided the voice of Ash in the first eight seasons of the English adaption of the Pokémon anime, which was dubbed by 4Kids Entertainment.', 0.3597745674995169, [0.9700607, 0.0, 0.10926299635993994])), (10, ('In the episode \"Chinpokomon\" of the animated show South Park, a parody of Ash makes an appearance, along with a parody of Team Rocket\\'s James, as characters in a TV show parodying Pokémon.', 0.3561105176384323, [0.96881056, 0.0, 0.09952099459620532])), (11, ('Ash also makes a cameo in Ghost Trial of the full game, where one may see a blurry photo of him and his Pikachu in the back room.', 0.3538495369147458, [0.9771444, 0.0, 0.0844041905972953])), (12, ('\", which is both a reference to the length of the anime, as well as referencing the length of The Simpsons itself in an ironic way.', 0.3538174143488335, [0.97055507, 0.0, 0.09089717598412252])), (13, ('Ash makes a brief cameo in the animated series The Simpsons, when, in the episode \"Postcards From the Wedge,\" the character Bart Simpson is watching TV while doing his homework, and a parody of the Pokémon anime appears on TV, starring Ash (in what appears to be a loose parody of his Diamond & Pearl outfit) and Pikachu.', 0.3537751671730697, [0.9689293, 0.0, 0.09239621074772482])), (14, ('In Pokémon Adventures, Red depicts his appearance from what he wore in the games.', 0.3536801327619517, [0.9682969, 0.0, 0.09274351279543765])), (15, ('Due to the huge popularity, success, and longevity of the Pokémon anime series around the world since its debut, Ash has gone on to become one of the most well-known and recognizable animated characters of all-time (due to his status as the protagonist of the Pokémon anime), though is often overshadowed in representation by the almost universally identifiable franchise mascot, Pikachu.', 0.3534531075255763, [0.9662784, 0.0, 0.09408094838163007])), (16, ('\"Luckily, I work with a great director who helps with the interpretation of the line, matching of the lip flap, and consistency of the voice.\"', 0.3528697217331616, [0.9732561, 0.0, 0.08535305405446525])), (17, ('Since the ninth season of the anime series, he is voiced by Sarah Natochenny for the remainder of the anime.', 0.35214536551513403, [0.9703684, 0.0, 0.08606771123046067])), (18, ('While there, he began traveling with the siblings, Clemont and Bonnie, along with Serena, whom he had met during a summer camp in Pallet Town when they were much younger.', 0.3510947905209618, [0.97658765, 0.0, 0.0766967184027902])), (19, ('However, having acquired all 7 symbols, he leaves with the privilege of becoming a Frontier Brain if and when he wants in the future.', 0.3509703245927631, [0.97391176, 0.0, 0.07899921154074055])), (20, ('In the Japanese Light Novel series Highschool DxD, the character of the familiar master Zatouji is a clear parody of Ash, even his catchphrase being \"Gotta catch \\'em all!\"', 0.35015896688377945, [0.9730158, 0.0, 0.07746111543405322])), (21, (\"In an interview Tajiri noted the contrast between the characters' relationship in the games and anime; while in the games they were rivals, in the anime, Shigeru represented Satoshi's master.\", 0.34997536361365394, [0.9719658, 0.0, 0.07796030104603989])), (22, ('Unlike previous seasons, Ash notoriously displays a drop in skill and competence, and instead regresses back to a beginner, showing little of his previous expertise and relearns many of the basics of catching Pokémon.', 0.349106097948263, [0.9675732, 0.0, 0.07974506834658937])), (23, ('Taylor commented that Ash and the other characters \"loosened up\" after the first ten episodes of the anime; she believed the writers were more relaxed and no longer felt the pressure of making sure everything was done correctly.', 0.34798436630807544, [0.97418463, 0.0, 0.06976846662289582])), (24, (\"In the XY series, he received minor changes, such as a decrease in the size of the 'birthmarks' on his cheeks.\", 0.34629855193598336, [0.9716605, 0.0, 0.06723516100356781])), (25, ('Although Ash does not yet have a Pokémon that can mega-evolve, the group discovers that his Greninja is capable of \"Bond Phenomenon\", a transformation where Ash and Greninja connect mentally and Greninja\\'s body changes to a color scheme resembling Ash.', 0.346016899617617, [0.9710528, 0.0, 0.06699787340195389])), (26, ('He stated that he felt the character represented the concept of the franchise, the human aspect, and was a necessity.', 0.3457639586590309, [0.96843505, 0.0, 0.0688568269200859])), (27, ('The title is also a parody of Pokémon.', 0.34545010585823954, [0.9522994, 0.0, 0.08405090150950265])), (28, ('In the episode \"Johnny\\'mon\" of the cartoon show Johnny Test, the character Blast Ketchup is a blatant parody of Ash Ketchum.', 0.34486285772405906, [0.972443, 0.0, 0.06214558859118357])), (29, ('in the English dub) faced criticism from fans when Ash lost the Kalos League against Alain.', 0.3435180723805744, [0.96904665, 0.0, 0.06150756482467616])), (30, ('In the game Overwatch, the character Hanzo says the line \"I choose you, spirit dragon,\" which is a reference to the phrase Ash frequently uses when sending out one of his Pokémon to battle, such as \"Pikachu, I choose you!\"', 0.34348703432602234, [0.97087, 0.0, 0.05959108497269596])), (31, ('Sarah Natochenny replaced Taylor in season nine when The Pokémon Company International (known at that time as Pokémon USA) took over the licensing, prompting a shift in recording studios.', 0.3433980244589385, [0.9757536, 0.0, 0.05444046801106231])), (32, ('When Ash uses the Z-Ring for the first time with Pikachu, it produces a massive surge of energy that overloads and shatters the Z-Crystal that powers it, making Ash realize that he still must learn to control it.', 0.34198120754077665, [0.97220355, 0.0, 0.05374006989939905])), (33, ('At the time of her audition, Taylor stated that the character was temporarily named Casey, which was the name later given to a recurring character in Johto.', 0.3417161450603059, [0.97463095, 0.0, 0.05051748329950908])), (34, ('All the voices were recorded separately, so Taylor was the only one in the booth when she recorded her lines, which took approximately six to eight hours per episode.', 0.3411295329218957, [0.9730842, 0.0, 0.05030438741619962])), (35, ('The Ash & Pikachu manga is similar, although it has the episodes from the anime like \"The Fortune Hunters\" and \"A Goldenrod Opportunity\" combined, but with a couple of changes.', 0.34090964586168565, [0.97065467, 0.0, 0.05207427116125933])), (36, ('Ash has considerably improved his abilities as a trainer over the course of the series.', 0.34071119094269536, [0.96729445, 0.0, 0.05483911825350106])), (37, ('The Pokémon fandom specifically criticized the episode due to misleading trailers that suggested that Ash would win the battle and because Ash had lost all of the Pokémon Leagues in past seasons.', 0.3404110983465893, [0.97245324, 0.0, 0.0487800584598728])), (38, (\"The book The Japanification of Children's Popular Culture cited Ash as an example of cultural identification, with the character going through similar motions players of the games had to in order to progress through them.\", 0.3399028916296046, [0.9743133, 0.0, 0.0453953561594131])), (39, ('Over his journey so far, Ash has collected 8 badges from each of the major regions of Kanto, Johto, Hoenn, Sinnoh, Unova and Kalos.', 0.3396248606659076, [0.9654207, 0.0, 0.05345385903629692])), (40, ('Ash defeats all of the Brains and acquires all the 7 Battle Frontier symbols, becoming a \"Strong Battle Frontier champion\" and qualifies for becoming a Frontier Brain himself.', 0.33913485952490724, [0.9697462, 0.0, 0.047658406146590615])), (41, ('During a vacation with his mother in the Alola Region, Ash has an encounter with Tapu Koko, one of the local guardian Pokémon who gives him a Z-Ring, an item that allows a trainer to bring forth special powers from their Pokémon.', 0.3389923216664134, [0.9741859, 0.0, 0.0427910810003693])), (42, ('Taylor commented: \"I enjoy playing Ash now much more than I did in the very beginning because I can have fun with him more, and we kind of know him and can work out how he really would react.', 0.3388544637942122, [0.97250557, 0.0, 0.04405782192462876])), (43, (\"In episode 7 of the seventeenth season (XY series), 'Giving Chase at the Rhyhorn Race!,' it is also revealed that at some point in his childhood, Ash had attended a Pokémon Summer Camp, where he had previously met childhood friend Serena.\", 0.3386816536719044, [0.9743974, 0.0, 0.04164754013253452])), (44, (\"After the script was translated from Japanese, the lines were adapted to fit the movements of the character's mouth (called lip flap).\", 0.33867379534626435, [0.9682728, 0.0, 0.04774858082486474])), (45, (\"The Guinness Book of World Records 2011 Game Edition lists Ash as coming 37th out of 50 in a readers' poll of their favorite video game characters.\", 0.33829085253426566, [0.9699888, 0.0, 0.04488373466578523])), (46, ('Jian DeLeon of Complex magazine named him seventeenth on a list of \"The 25 Most Stylish Anime Characters,\" and stated, \"The first Ash outfit was hands down the best-and most memorable.\"', 0.3378956711035846, [0.97062445, 0.0, 0.04306256644185738])), (47, ('Several animators of the series expressed disappointment that Ash had lost.', 0.3376806893092783, [0.96361476, 0.0, 0.049427306098458745])), (48, ('In fact, the only legitimate victories were over Lt. Surge, Koga, and Blaine, while the others were earned on technical convenience or given to him out of gratitude.', 0.3376329973309429, [0.97400737, 0.0, 0.03889162390506005])), (49, ('He eventually faces Paul in the quarter-finals of the Sinnoh League Festival and finally defeats him, marking the first time Ash has ever made it into the semi-finals in a Pokémon League.', 0.33750595711702697, [0.9728616, 0.0, 0.03965628334982965])), (50, ('Since then Ash has traveled the world of Pokémon, competed in many challenges, and caught newer Pokémon.', 0.3366224736969687, [0.9631494, 0.0, 0.04671799272329122])), (51, ('Manga author Toshihiro Ono cited Ash as one of his favorite characters to draw for the series, stating, \"I want to go on a trip with Misty just like him!', 0.3360393462766211, [0.97547793, 0.0, 0.03264010494619624])), (52, ('He is the main protagonist of the Pokémon anime and manga series as well as on various merchandise related to the franchise.', 0.33591015185424306, [0.9622147, 0.0, 0.04551574723448199])), (53, ('During the first season of the series, Ash trained to catch more Pokémon than his childhood rival, Gary Oak, although Gary was always shown to be the stronger trainer.', 0.3356886043743761, [0.9711041, 0.0, 0.03596172767772417])), (54, ('Ash has generally improved in his Pokémon League Performances over time, placing in the Top 16 in the Indigo Plateau Conference, Top 8 in the Silver Conference, Top 8 in the Ever Grande Conference, semi-finals in the Lily of the Valley Conference, Top 8 in the Vertress Conference and runner-up in the Lumiose Conference.', 0.3356318107588776, [0.96510404, 0.0, 0.041791388792898766])), (55, ('Although they are counterparts, they are not the same characters because they originate from different canons and thus developed from different experiences.', 0.33560368019984116, [0.9607578, 0.0, 0.04605324860352116])), (56, (\"Throughout the series, Ash's primary enemies are a Pokémon crime organization called Team Rocket, specifically the two comical and bumbling members, Jessie and James, and their talking Meowth, who is essentially the third member of the group.\", 0.3354788471296022, [0.97140527, 0.0, 0.03503127367335241])), (57, ('In the episode \"The Perspiration Implementation\" of the TV show The Big Bang Theory, Ash is mentioned by the character Sheldon Cooper when he attempts to ask a girl out by saying \"And as Ash Ketchum said to Pikachu, I choose you.', 0.33534991176710754, [0.9759924, 0.0, 0.030057353728599384])), (58, ('Ash is usually seen traveling by himself during the course of this manga although he is joined by Misty and Brock in Indigo sometimes.', 0.3351695085546878, [0.9673875, 0.0, 0.038121028238984125])), (59, ('\", the three of them have obsessively never stopped chasing after them to steal Ash\\'s Pikachu, maintaining the delusion that Pikachu is abnormally powerful and presenting it to their criminal boss would make them very rich.', 0.3351076836344525, [0.9752284, 0.0, 0.03009462206272035])), (60, ('Ash beat Gary again, in the 1st round of the conference, and was able to make it to the quarter-finals, and achieve Top 8.', 0.335095817839083, [0.97140586, 0.0, 0.03388158975534712])), (61, (\"The anime re-imagined Red as Ash Ketchum, the same way it re-imagined Red's rival Blue as Gary Oak and Ethan (the protagonist of the second generation Pokémon games as well as their remakes) as Jimmy.\", 0.3349499899993031, [0.9702686, 0.0, 0.034581362858321876])), (62, ('In the show The Norm Show, the character Tommy thinks that he is Ash, and faces off against the character Norm in the episode \"Artie comes to town.\"', 0.33493895706566273, [0.9775873, 0.0, 0.02722958853936507])), (63, ('Ash also makes appearances in several segments of the show Robot Chicken, including \"Poké Ball High Life\" and \"Pokémon Tennis.\"', 0.3345502324110143, [0.96463966, 0.0, 0.03901103353675381])), (64, ('UGO.com listed Ash fifteenth on their list of \"The Coolest Helmets and Headgear in Video Games\", stating \"Love him or hate him, y’all know Ash Ketchum for his red and white cap\".', 0.33434981832444705, [0.97424906, 0.0, 0.02880039005100829])), (65, (\"Despite this, he has been largely criticized for being stuck in a 'floating timeline,' as well as for his inability to win any major Pokémon leagues as of yet.\", 0.33404163854724694, [0.97028655, 0.0, 0.03183836750407607])), (66, ('Cameron is then defeated by Virgil, who went on to win the League with his team of Eevee evolutions.', 0.3339483236158034, [0.97488695, 0.0, 0.026958017016691115])), (67, ('In Pokémon Sun and Moon\\'s demo, the player character, Sun, receives a letter from Ash, along with his Greninja, which is capable of assuming its \"Ash-Greninja\" form through its ability Battle Bond.', 0.33345439313003533, [0.96591234, 0.0, 0.034450837318572736])), (68, (\"In order to master the power of the Z-Ring, Ash then decides to stay in Alola and enrolls at Melemele Island's Pokémon School, living with Professor Kukui and studying with his new classmates: Lana, Mallow, Lillie, Sophocles and Kiawe while battling against Team Rocket & Team Skull.\", 0.3330954908082519, [0.97145736, 0.0, 0.027829110249767905])), (69, ('Ash received a redesign in the Best Wishes!', 0.3330661437401623, [0.96138054, 0.0, 0.037817889895871454])), (70, (\"In addition, he has also obtained 4 badges from the Orange Archipelago, and beating the Orange Islands Champion to gain the Winners' Trophy.\", 0.3329113166467563, [0.96938443, 0.0, 0.029349518101279625])), (71, ('Ash was able to go to the 5th round, and achieve the Top 16 — one round further than his competitive rival Gary, who finished in the Top 32.', 0.3328916202828081, [0.97053903, 0.0, 0.028135827435491065])), (72, ('Like Mega Evolution, the transformation is temporary and makes \"Ash-Greninja\" much more powerful and well capable of defeating mega-evolved Pokémon.', 0.3327861618012757, [0.96595377, 0.0, 0.03240471810417505])), (73, ('Currently, no other known Pokémon in existence is capable of Bond Phenomenon, and several rivals have taken great interest in competing with it in the Kalos League with their own mega-evolving Pokémon.', 0.3326551505017096, [0.9716714, 0.0, 0.026294049050752503])), (74, (\"Ash is eventually defeated by Tobias, but not without having defeated his Darkrai, as well as his Latios, which is also a legendary Pokémon, whom Ash also defeated in a draw with his final Pokémon, making Ash the only known trainer to have defeated two of Tobias' legendary Pokémon, something that not even Tobias' opponent in the finals could achieve.\", 0.3326491252327634, [0.9664336, 0.0, 0.03151379100819633])), (75, (\"The character's first official appearance in a game was in Pokémon Puzzle League.\", 0.3323003512358767, [0.95886976, 0.0, 0.03803129843953327])), (76, ('In Pokémon Red, Blue, Yellow, and the remakes of Red and Blue, a character very similar to Ash (named Red) appears as a playable character as well as in cameos in Pokémon Black 2, White 2, Gold, Silver, their remakes, Sun and Moon.', 0.33200752540232026, [0.9580949, 0.0, 0.037927681320943984])), (77, ('When asked if either Satoshi would equal or surpass Shigeru, Tajiri replied \"No!', 0.3315708299487154, [0.9615742, 0.0, 0.033138293030655394])), (78, ('Ash traveled to the Orange Islands with Misty and Tracey Sketchit, a Pokémon watcher, obtained all 4 badges, and competed in the Orange League to battle Drake, the Orange League Champion.', 0.33115012965361146, [0.96721095, 0.0, 0.026239440493579708])), (79, (\"He soon began to focus more on each of his Pokémon's abilities.\", 0.3308985495741788, [0.9591849, 0.0, 0.03351076369751209])), (80, ('However, Ash still manages to win all eight gym badges in Unova and then entered the Unova League, where he defeats his arrogant rival, Trip, in the first match, but gets defeated by Cameron in the quarter-finals, one match below his previous Pokémon League ranking.', 0.3301400454489624, [0.9681687, 0.0, 0.022251460447381587])), (81, (\"The character was given a rival named Gary (Shigeru in the Japanese version, after Tajiri's idol/mentor, Nintendo legend Shigeru Miyamoto), loosely based on Red's rival Blue.\", 0.330059127190457, [0.9657823, 0.0, 0.024395096834737697])), (82, (\"Ash also made a brief appearance on The Late Show with Stephen Colbert, where he has a 'Pokémon battle' against Cartoon Donald Trump with Special Prosecutor Robert Mueller.\", 0.33001316564686684, [0.9700942, 0.0, 0.019945292991625837])), (83, ('Ash received a major design overhaul for the Sun and Moon anime series, which started airing in Japan on November 17, 2016.', 0.3299157918542953, [0.9671901, 0.0, 0.0225572887213027])), (84, (\"A man wearing Ash's original outfit also appears in a few Taiwanese Subway ads teaching passengers basic safety procedures.\", 0.329802857012225, [0.9676508, 0.0, 0.021757799895622754])), (85, ('He is also considered a major pop icon character for Japanese pop culture in the United States.', 0.32972459972414864, [0.9641852, 0.0, 0.024988620892569185])), (86, ('In the Alola region, he has cleared the Melemele Island Grand Trial so far.', 0.3296941344595277, [0.97197634, 0.0, 0.017106063561536135])), (87, ('He caught his Pokémon by merely befriending them, knew absolutely nothing about battling, and many of his gym badges were earned rather controversially.', 0.32965858659648933, [0.9662262, 0.0, 0.022749539658547657])), (88, ('At one point during the camp, Serena had hurt her knee from falling over after being startled by a Poliwag.', 0.3296393308070646, [0.97188395, 0.0, 0.017034039803548437])), (89, ('During his travels, Ash still had a lot to learn as a trainer.', 0.32961628027047946, [0.9682926, 0.0, 0.020556246855444636])), (90, ('Ash also shows a deep love for Pokémon in the series, protecting wild Pokémon or his own from getting injured or trying to help them, despite getting significantly hurt himself.', 0.3296062824339064, [0.97044146, 0.0, 0.01837738669228314])), (91, (\"Fans also disliked the outcome because they believed Ash's Greninja had many advantages over Alain's Charizard, including the fact that water-type Pokémon resist attacks from fire-type Pokémon, and that the rare Bond Phenomenon Ash's Greninja was subject to was said to be far more powerful than a conventional Mega Evolution.\", 0.3295425888399708, [0.96860045, 0.0, 0.020027314573653858])), (92, ('Having gone through several leagues and gotten a lot stronger, Ash decides to challenge the Kanto \"Battle Frontier\" and its 7 Brains (leaders).', 0.32946080507728365, [0.97349286, 0.0, 0.014889554437783484])), (93, ('As a ten-year-old hailing from Pallet Town in the Kanto region, Ash was offered a choice between three Pokémon as his starter: Bulbasaur, Squirtle and Charmander.', 0.32934420675605736, [0.97139734, 0.0, 0.016635279970473118])), (94, ('Misty is the only one to join Ash in the Orange Islands.', 0.3290613733815762, [0.967464, 0.0, 0.019720090355757683])), (95, (\"He has also collected all 7 Frontier Symbols from Generation III's Battle Frontier, and has been offered a position as a future Frontier Brain, which he declined.\", 0.32867059209731214, [0.97252107, 0.0, 0.0134907096262871])), (96, ('This particular Pokémon League exists only in the anime series, and not adapted from the video game series.', 0.3286393957032789, [0.9600473, 0.0, 0.025870882479557163])), (97, ('The title itself is a reference to Pokémon.', 0.32850153718514224, [0.9541285, 0.0, 0.03137610775598831])), (98, ('Here, he meets and travels with two new companions: a female trainer named Iris, and a new male trainer named Cilan, who, like Brock before him, is a gym leader.', 0.32845816122531873, [0.96803683, 0.0, 0.0173376532506938])), (99, ('Ash wins all 8 Sinnoh gym badges, and competes in the Sinnoh conference at the Lily of the Valley Island.', 0.32829761893242415, [0.9711805, 0.0, 0.01371235819726633])), (100, (\"A man wearing Ash's original League Expo hat is also shown in the third episode of season 4 of the show Metalocalypse.\", 0.3282314927508232, [0.9730024, 0.0, 0.01169210408025892])), (101, ('Throughout Unova, Ash meets and competes against more rivals than before, including Trip, Bianca, Stephan, Cameron, and Virgil, most of whom he befriends.', 0.3281603176471103, [0.9634219, 0.0, 0.021059071742447828])), (102, ('However, due to his inexperience in handling his more powerful Pokémon, Ash was eliminated from his first Pokémon League competition in a very unflattering manner, which greatly disappointed him.', 0.3279970054904335, [0.96845853, 0.0, 0.01553248318425213])), (103, ('Although not parodied quite as frequently as the franchise mascot Pikachu, Ash still has many parodies and appearances in various other media, ranging from an unofficial fan-made film to several representations in web media, including many parodies on the YouTube channel Smosh.', 0.3278692852095729, [0.96481806, 0.0, 0.01878979523061694])), (104, ('His name is derived from the Japanese name (as the letters \\'ash\\' are included in \\'Satoshi\\') and his English motto, \"Gotta Catch \\'Em All\".', 0.32786535700184366, [0.9658052, 0.0, 0.017790898085303944])), (105, ('not growing up), never succeeding, and for the ambiguity about his father, noting that the consistency could be seen having nothing as frustrating or comforting for fans.', 0.3278520534945091, [0.9688245, 0.0, 0.014731654677557968])), (106, ('He then traveled on to the Johto region with Brock and Misty, hoping to meet with Gary and finally defeat him in the Johto League.', 0.3278419666968039, [0.9692573, 0.0, 0.014268604958728252])), (107, ('He bids farewell with Dawn in Twinleaf Town, and parts ways with Brock for the last time.', 0.32775136320881865, [0.9670503, 0.0, 0.016203775676870934])), (108, ('However he lost in the 3rd round against his 2nd new rival Tyson.', 0.32774305746111676, [0.96402335, 0.0, 0.019205820714038705])), (109, ('While he was planning to choose Squirtle, he received the electric type Pokémon Pikachu from Professor Oak instead, because he woke up late and all the other starter Pokémon had been taken by other trainers.', 0.32769673014465334, [0.9698292, 0.0, 0.013260988735656802])), (110, ('He honed his skill as a Pokémon trainer and was able to get all 8 badges, enabling him to compete in the Indigo League.', 0.32752003110344, [0.96873975, 0.0, 0.013820345309221422])), (111, ('He is loosely based on Red, the player character from the Generation I games Pokémon Red, Green, Blue and Yellow as well as the Generation III games Pokémon FireRed and LeafGreen versions.', 0.327510017891211, [0.96071273, 0.0, 0.021817322789081016])), (112, ('Also unlike previous seasons, Ash must battle against a much more malevolent Team Rocket, as well as the evil Team Plasma.', 0.32744657881679357, [0.965237, 0.0, 0.01710271500415261])), (113, ('Ash, along with Brock, travel to Sinnoh, befriends a new traveling companion, Dawn, and also finds a brutal new rival in Paul; and through their journey they encounter and defeat Cyrus and his Team Galactic.', 0.32720998810008184, [0.96666306, 0.0, 0.014966901727766319])), (114, (\"After his latest attempt to compete in the Unova League, and foiling both Team Rocket and Team Plasma's attempts to enslave Pokémon to conquer the world, Ash's friends travel with him back to Kanto, where they parted to go own their ways and bid each other farewell.\", 0.3272051378701221, [0.9721756, 0.0, 0.009439815465835171])), (115, ('However Ash wanting to learn more about Pokémon and get even stronger, decides to continue his journey, not as a Frontier Brain, but as a trainer.', 0.32707799409728094, [0.96734226, 0.0, 0.013891724792148105])), (116, ('Taylor was often the first person to record, so she had to \"imagine how the previous line will be said\".', 0.32697154413675017, [0.97265184, 0.0, 0.008262793153963886])), (117, ('Ash was able to defeat his 1st new rival Morrison, in the 2nd round, also entering in the quarter-finals, and achieving Top 8 again.', 0.3268109788995591, [0.9707281, 0.0, 0.009704837352516428])), (118, ('Tajiri noted in an interview that between Japanese and American reactions to the series, Japanese consumers focused on the character Pikachu, while Americans purchased more items featuring Ash and Pikachu, his Pokémon, together.', 0.32676690043901857, [0.96910435, 0.0, 0.011196351703865988])), (119, ('Ash then ventured to the Kalos region to challenge the Kalos League, as well as learn more about Mega Evolution, a transformation that can take certain fully evolved Pokémon to a more powerful temporary form.', 0.32668547781352747, [0.9680687, 0.0, 0.011987714530365108])), (120, ('In the English dub, he was voiced by Veronica Taylor from 1998 to 2006.', 0.3262801561725338, [0.9601051, 0.0, 0.01873534738188974])), (121, ('Ash had used his handkerchief to wrap up her injury, which she had kept, and returns to Ash in this episode.', 0.326220198166237, [0.9729502, 0.0, 0.005710374390678715])), (122, (\"The series starts with Ash's tenth birthday, which according to Pokémon trainer registration bylaws allowed him to become a full-fledged Pokémon trainer and obtain a starter Pokémon.\", 0.3262015596360062, [0.96547973, 0.0, 0.013124947348265296])), (123, ('Ever since being defeated by Ash\\'s Pikachu in the second episode, \"Pokémon Emergency!', 0.325897230322387, [0.9589431, 0.0, 0.018748562381345545])), (124, ('In Japan throughout the anime media, Rica Matsumoto has always provided the original Japanese voice of Ash.', 0.32585896637248496, [0.96390307, 0.0, 0.013673829621300006])), (125, (\"Ash's outfits through the anime, especially his various hats, are also considered to be just as iconic as him, and also have good reception, in particular, his first costume from the Original Series.\", 0.32561532437038365, [0.9661425, 0.0, 0.010703497506139996])), (126, ('Named after creator Satoshi Tajiri, Satoshi, whose name can be taken to mean \"wisdom\" or \"reason\", was designed by Ken Sugimori and Atsuko Nishida, and intended to represent how Tajiri was as a child, obsessed with catching bugs.', 0.32559174012267855, [0.9717225, 0.0, 0.005052736733086965])), (127, ('The only video game Ash has truly appeared in to date is Pokémon Puzzle League, where he tries to become a Pokémon Puzzle Master.', 0.32532777542677727, [0.96884394, 0.0, 0.00713938936016582])), (128, ('Like before, Ash earns all eight gym badges qualifying him to compete in the Kalos League, and with his newest Pokémon, Ash defeats many opponents and their mega-evolved Pokémon, advancing all the way to the finals, breaking his previous highest ranking, but is defeated by Alain.', 0.3251459355799687, [0.96595955, 0.0, 0.0094782577897107])), (129, ('He was able to get all 8 badges, and then competed in the Hoenn Conference.', 0.3250258905273131, [0.967683, 0.0, 0.007394654328063654])), (130, ('Ash then moved on and traveled through the Hoenn region, along with Brock and two new characters, May, an aspiring Pokémon coordinator, and her younger brother Max, and together they ended up bringing down the rival teams, Team Magma and Team Aqua.', 0.32495253653774353, [0.96899164, 0.0, 0.005865972383311119])), (131, ('Though Pokémon Yellow has certain plot aspects that were inspired by the anime series, the player character is still named Red rather than Ash.', 0.3247218088028447, [0.96579003, 0.0, 0.008375393068079995])), (132, ('Ash was able to win his battle against Drake, giving him his first League Championship as a Pokémon trainer.', 0.32469331178383126, [0.96520954, 0.0, 0.008870391646507199])), (133, ('Afterwards, however, Ash is matched against Tobias, a trainer who famously swept all eight Sinnoh League gyms and all other opponents with only his legendary Pokémon Darkrai.', 0.3240242817078884, [0.96550435, 0.0, 0.006568496845619504])), (134, ('Satoshi chōjō kessen) (Down to the Fiery Finish!', 0.32398408041538823, [0.9593865, 0.0, 0.01256571370786508])), (135, ('However he lost against his new rival Harrison, in the 2nd round.', 0.32375061572178143, [0.9637881, 0.0, 0.007463755028961195])), (136, (\"Ash's character design was initially overseen by Sayuri Ichishi, replaced by Toshiya Yamada during the Diamond and Pearl storyline arc.\", 0.3236917490135863, [0.9623152, 0.0, 0.008760045281420646])), (137, ('Ash concludes his participation in the Sinnoh League with an impressive new ranking.', 0.32367072613023257, [0.9634603, 0.0, 0.00755185219593451])), (138, ('While in Kalos, Ash befriends and acquires new Pokémon, including Froakie, which later evolves into a powerful Greninja.', 0.32351978354583794, [0.96256125, 0.0, 0.00799810090454266])), (139, ('We have the classic Ash responses and things like that.\"', 0.3234436771149119, [0.9579665, 0.0, 0.01236452486356509])), (140, ('Ash Ketchum, known as Satoshi (サトシ) in Japan, is a fictional character in the Pokémon franchise owned by Nintendo.', 0.3233529094107102, [0.9653513, 0.0, 0.0047074446818680974])), (141, ('This experience is what inspired Ash into becoming a Pokémon trainer.', 0.32331365625401126, [0.9585723, 0.0, 0.011368640671366137])), (142, ('He won 8 badges and competed in the Johto Conference.', 0.3230913055648304, [0.96059746, 0.0, 0.008676461192934791])), (143, ('However, he noticed a group of Pokémon who were also seeking shelter from the rain.', 0.32268500328063965, [0.968055, 0.0, 0.0])), (144, ('So, he invited them inside the tree and the Pokémon kept him safe and warm.', 0.3226373791694641, [0.96791214, 0.0, 0.0])), (145, (\"It additionally emphasized the character's growth and development as the anime series progressed.\", 0.3223589438441868, [0.95589566, 0.0, 0.011181169224821201])), (146, ('Once Team Flare is stopped, Ash releases Greninja to help protect Kalos, and bids farewell to his friends, before returning to Pallet once again.', 0.3222069938977559, [0.966621, 0.0, 0.0])), (147, ('However, during the trip, it started to rain, and Ash got separated from his group.', 0.3221535881360372, [0.96646076, 0.0, 0.0])), (148, (\"Ash's dream is to become a Pokémon Master.\", 0.3218024193567796, [0.95164657, 0.0, 0.01376069167934768])), (149, ('In Japanese, the character is voiced by Rica Matsumoto.', 0.3215371480742748, [0.9556133, 0.0, 0.008998129117386212])), (150, ('After receiving Pikachu and a Pokédex, Ash left Pallet Town to start his journey.', 0.3215103376727016, [0.95520926, 0.0, 0.009321757799598821])), (151, ('There are key differences in the manga, though.', 0.3211887145896896, [0.9545817, 0.0, 0.008984465855403063])), (152, ('Ash also features in an ADHD Short segment called \"Pikachu gets Pokémon rabies.\"', 0.32102306404301156, [0.9561566, 0.0, 0.006912580686468872])), (153, ('Once again, Ash continues his journey to the Unova region, with only his Pikachu.', 0.3206920623779297, [0.9620762, 0.0, 0.0])), (154, ('However, his earnestness and determination remain the same.', 0.3205350641080804, [0.94771516, 0.0, 0.013890029093345265])), (155, ('Taylor enjoyed playing Ash because of his \"low, husky voice\" and \"energy and excitement\".', 0.32047969102859497, [0.9614391, 0.0, 0.0])), (156, ('Ash was forced to take shelter under a hollow tree.', 0.32022043069203693, [0.9606613, 0.0, 0.0])), (157, ('On August 18, 2016, the XYZ episode Kalos League Victory!', 0.3201563623722202, [0.9487137, 0.0, 0.011755367271842534])), (158, ('However, he has been criticized by IGN for perpetuating floating timeline (i.e.', 0.31934990485509235, [0.9580497, 0.0, 0.0])), (159, ('This game was never released in Japan.', 0.31925286107348544, [0.94755, 0.0, 0.01020858446023285])), (160, ('He has met many companions, such as Misty and Brock.', 0.3189334273338318, [0.9568003, 0.0, 0.0])), (161, ('They meet new rivals like Sawyer, Shauna, Tierno, Trevor, and Alain.', 0.318888783454895, [0.95666635, 0.0, 0.0])), (162, ('\", which specifically references how Pikachu was Ash\\'s first Pokémon.', 0.31521256764729816, [0.9456377, 0.0, 0.0])), (163, (\"Satoshi's Greatest Decisive Battle (カロスリーグ優勝！サトシ頂上決戦, Karosurīgu yūshō!\", 0.31414546569188434, [0.9424364, 0.0, 0.0])), (164, ('(And forget about job, rent, etc.)\".', 0.31232506036758423, [0.9369752, 0.0, 0.0])), (165, ('series, which included larger brown irises.', 0.30921775102615356, [0.92765325, 0.0, 0.0])), (166, ('Never!\"', 0.2965766986211141, [0.8897301, 0.0, 0.0]))]\n"
          ],
          "name": "stdout"
        }
      ]
    },
    {
      "cell_type": "code",
      "metadata": {
        "id": "8WIB9r2UKiWP"
      },
      "source": [
        "best_response = distances_sorted[-1]"
      ],
      "execution_count": null,
      "outputs": []
    },
    {
      "cell_type": "code",
      "metadata": {
        "id": "qGyghUGHi8to",
        "colab": {
          "base_uri": "https://localhost:8080/",
          "height": 327
        },
        "outputId": "8fc1a8bb-f60b-490a-99cc-e3fc331483d2"
      },
      "source": [
        "doc_text"
      ],
      "execution_count": null,
      "outputs": [
        {
          "output_type": "execute_result",
          "data": {
            "application/vnd.google.colaboratory.intrinsic+json": {
              "type": "string"
            },
            "text/plain": [
              "'Ash Ketchum, known as Satoshi (サトシ) in Japan, is a fictional character in the Pokémon franchise owned by Nintendo. He is the main protagonist of the Pokémon anime and manga series as well as on various merchandise related to the franchise. In Japanese, the character is voiced by Rica Matsumoto. In the English dub, he was voiced by Veronica Taylor from 1998 to 2006. Since the ninth season of the anime series, he is voiced by Sarah Natochenny for the remainder of the anime. His name is derived from the Japanese name (as the letters \\'ash\\' are included in \\'Satoshi\\') and his English motto, \"Gotta Catch \\'Em All\". Ash\\'s dream is to become a Pokémon Master. He is loosely based on Red, the player character from the Generation I games Pokémon Red, Green, Blue and Yellow as well as the Generation III games Pokémon FireRed and LeafGreen versions. The character\\'s first official appearance in a game was in Pokémon Puzzle League. As the protagonist of the Pokémon anime, Ash has appeared in all episodes of the anime, all the films and several of the television specials. Due to the huge popularity, success, and longevity of the Pokémon anime series around the world since its debut, Ash has gone on to become one of the most well-known and recognizable animated characters of all-time (due to his status as the protagonist of the Pokémon anime), though is often overshadowed in representation by the almost universally identifiable franchise mascot, Pikachu. He is now widely considered a figurehead character of the wave of anime in the late 90s; which is credited by most anime fans as having popularized anime in the west, alongside the likes of Goku of Dragon Ball Z and Sailor Moon of the show with the same name. He is also considered a major pop icon character for Japanese pop culture in the United States. Despite this, he has been largely criticized for being stuck in a \\'floating timeline,\\' as well as for his inability to win any major Pokémon leagues as of yet. Ash\\'s outfits through the anime, especially his various hats, are also considered to be just as iconic as him, and also have good reception, in particular, his first costume from the Original Series. Named after creator Satoshi Tajiri, Satoshi, whose name can be taken to mean \"wisdom\" or \"reason\", was designed by Ken Sugimori and Atsuko Nishida, and intended to represent how Tajiri was as a child, obsessed with catching bugs. During localization of both for North American audiences, the character\\'s name was changed in the anime to \"Ash Ketchum\", the first name taken from one of the possible default names players could select for the player character in Pokémon Red and Blue, and the surname tying into the former tagline (and as of Pokémon XY revived) for the series, \"Gotta catch \\'em all!\" Tajiri noted in an interview that between Japanese and American reactions to the series, Japanese consumers focused on the character Pikachu, while Americans purchased more items featuring Ash and Pikachu, his Pokémon, together. He stated that he felt the character represented the concept of the franchise, the human aspect, and was a necessity. The character was given a rival named Gary (Shigeru in the Japanese version, after Tajiri\\'s idol/mentor, Nintendo legend Shigeru Miyamoto), loosely based on Red\\'s rival Blue. In an interview Tajiri noted the contrast between the characters\\' relationship in the games and anime; while in the games they were rivals, in the anime, Shigeru represented Satoshi\\'s master. When asked if either Satoshi would equal or surpass Shigeru, Tajiri replied \"No! Never!\" Ash\\'s character design was initially overseen by Sayuri Ichishi, replaced by Toshiya Yamada during the Diamond and Pearl storyline arc. Ash received a redesign in the Best Wishes! series, which included larger brown irises. In the XY series, he received minor changes, such as a decrease in the size of the \\'birthmarks\\' on his cheeks. Ash received a major design overhaul for the Sun and Moon anime series, which started airing in Japan on November 17, 2016. In Japan throughout the anime media, Rica Matsumoto has always provided the original Japanese voice of Ash. For the English dubbing, Veronica Taylor provided the voice of Ash in the first eight seasons of the English adaption of the Pokémon anime, which was dubbed by 4Kids Entertainment. At the time of her audition, Taylor stated that the character was temporarily named Casey, which was the name later given to a recurring character in Johto. After the script was translated from Japanese, the lines were adapted to fit the movements of the character\\'s mouth (called lip flap). All the voices were recorded separately, so Taylor was the only one in the booth when she recorded her lines, which took approximately six to eight hours per episode. Taylor was often the first person to record, so she had to \"imagine how the previous line will be said\". \"Luckily, I work with a great director who helps with the interpretation of the line, matching of the lip flap, and consistency of the voice.\" Taylor enjoyed playing Ash because of his \"low, husky voice\" and \"energy and excitement\". Taylor commented that Ash and the other characters \"loosened up\" after the first ten episodes of the anime; she believed the writers were more relaxed and no longer felt the pressure of making sure everything was done correctly. Taylor commented: \"I enjoy playing Ash now much more than I did in the very beginning because I can have fun with him more, and we kind of know him and can work out how he really would react. We have the classic Ash responses and things like that.\" Sarah Natochenny replaced Taylor in season nine when The Pokémon Company International (known at that time as Pokémon USA) took over the licensing, prompting a shift in recording studios. In episode 28 of the nineteenth season (Pokémon the Series: XYZ), \\'Seeing the Forest for the Trees!,\\' It reveals the true story of why Ash Ketchum loved Pokémon, when Ash was a little boy, he went on a field trip. However, during the trip, it started to rain, and Ash got separated from his group. Ash was forced to take shelter under a hollow tree. However, he noticed a group of Pokémon who were also seeking shelter from the rain. So, he invited them inside the tree and the Pokémon kept him safe and warm. This experience is what inspired Ash into becoming a Pokémon trainer. In episode 7 of the seventeenth season (XY series), \\'Giving Chase at the Rhyhorn Race!,\\' it is also revealed that at some point in his childhood, Ash had attended a Pokémon Summer Camp, where he had previously met childhood friend Serena. At one point during the camp, Serena had hurt her knee from falling over after being startled by a Poliwag. Ash had used his handkerchief to wrap up her injury, which she had kept, and returns to Ash in this episode. The series starts with Ash\\'s tenth birthday, which according to Pokémon trainer registration bylaws allowed him to become a full-fledged Pokémon trainer and obtain a starter Pokémon. As a ten-year-old hailing from Pallet Town in the Kanto region, Ash was offered a choice between three Pokémon as his starter: Bulbasaur, Squirtle and Charmander. While he was planning to choose Squirtle, he received the electric type Pokémon Pikachu from Professor Oak instead, because he woke up late and all the other starter Pokémon had been taken by other trainers. After receiving Pikachu and a Pokédex, Ash left Pallet Town to start his journey. Since then Ash has traveled the world of Pokémon, competed in many challenges, and caught newer Pokémon. He has met many companions, such as Misty and Brock. Throughout the series, Ash\\'s primary enemies are a Pokémon crime organization called Team Rocket, specifically the two comical and bumbling members, Jessie and James, and their talking Meowth, who is essentially the third member of the group. Ever since being defeated by Ash\\'s Pikachu in the second episode, \"Pokémon Emergency!\", the three of them have obsessively never stopped chasing after them to steal Ash\\'s Pikachu, maintaining the delusion that Pikachu is abnormally powerful and presenting it to their criminal boss would make them very rich. As the enduring comical villains of the series, the Team Rocket trio occasionally show signs of goodness, such as care and friendship with their Pokémon and each other, and despite their constant antagonism, they occasionally put their differences aside and work together with Ash against a common threat, such as in Pokémon: The Movie 2000, where they aid Ash in retrieving the three treasures in order to save the world. During his travels, Ash still had a lot to learn as a trainer. He caught his Pokémon by merely befriending them, knew absolutely nothing about battling, and many of his gym badges were earned rather controversially. In fact, the only legitimate victories were over Lt. Surge, Koga, and Blaine, while the others were earned on technical convenience or given to him out of gratitude. Ash also shows a deep love for Pokémon in the series, protecting wild Pokémon or his own from getting injured or trying to help them, despite getting significantly hurt himself. He honed his skill as a Pokémon trainer and was able to get all 8 badges, enabling him to compete in the Indigo League. Ash was able to go to the 5th round, and achieve the Top 16 — one round further than his competitive rival Gary, who finished in the Top 32. However, due to his inexperience in handling his more powerful Pokémon, Ash was eliminated from his first Pokémon League competition in a very unflattering manner, which greatly disappointed him. Ash traveled to the Orange Islands with Misty and Tracey Sketchit, a Pokémon watcher, obtained all 4 badges, and competed in the Orange League to battle Drake, the Orange League Champion. Ash was able to win his battle against Drake, giving him his first League Championship as a Pokémon trainer. This particular Pokémon League exists only in the anime series, and not adapted from the video game series. He then traveled on to the Johto region with Brock and Misty, hoping to meet with Gary and finally defeat him in the Johto League. He won 8 badges and competed in the Johto Conference. Ash beat Gary again, in the 1st round of the conference, and was able to make it to the quarter-finals, and achieve Top 8. However he lost against his new rival Harrison, in the 2nd round. Ash then moved on and traveled through the Hoenn region, along with Brock and two new characters, May, an aspiring Pokémon coordinator, and her younger brother Max, and together they ended up bringing down the rival teams, Team Magma and Team Aqua. He was able to get all 8 badges, and then competed in the Hoenn Conference. Ash was able to defeat his 1st new rival Morrison, in the 2nd round, also entering in the quarter-finals, and achieving Top 8 again. However he lost in the 3rd round against his 2nd new rival Tyson. Having gone through several leagues and gotten a lot stronger, Ash decides to challenge the Kanto \"Battle Frontier\" and its 7 Brains (leaders). Ash defeats all of the Brains and acquires all the 7 Battle Frontier symbols, becoming a \"Strong Battle Frontier champion\" and qualifies for becoming a Frontier Brain himself. However Ash wanting to learn more about Pokémon and get even stronger, decides to continue his journey, not as a Frontier Brain, but as a trainer. However, having acquired all 7 symbols, he leaves with the privilege of becoming a Frontier Brain if and when he wants in the future. Ash, along with Brock, travel to Sinnoh, befriends a new traveling companion, Dawn, and also finds a brutal new rival in Paul; and through their journey they encounter and defeat Cyrus and his Team Galactic. Ash wins all 8 Sinnoh gym badges, and competes in the Sinnoh conference at the Lily of the Valley Island. He eventually faces Paul in the quarter-finals of the Sinnoh League Festival and finally defeats him, marking the first time Ash has ever made it into the semi-finals in a Pokémon League. Afterwards, however, Ash is matched against Tobias, a trainer who famously swept all eight Sinnoh League gyms and all other opponents with only his legendary Pokémon Darkrai. Ash is eventually defeated by Tobias, but not without having defeated his Darkrai, as well as his Latios, which is also a legendary Pokémon, whom Ash also defeated in a draw with his final Pokémon, making Ash the only known trainer to have defeated two of Tobias\\' legendary Pokémon, something that not even Tobias\\' opponent in the finals could achieve. Ash concludes his participation in the Sinnoh League with an impressive new ranking. He bids farewell with Dawn in Twinleaf Town, and parts ways with Brock for the last time. Once again, Ash continues his journey to the Unova region, with only his Pikachu. Here, he meets and travels with two new companions: a female trainer named Iris, and a new male trainer named Cilan, who, like Brock before him, is a gym leader. Throughout Unova, Ash meets and competes against more rivals than before, including Trip, Bianca, Stephan, Cameron, and Virgil, most of whom he befriends. Unlike previous seasons, Ash notoriously displays a drop in skill and competence, and instead regresses back to a beginner, showing little of his previous expertise and relearns many of the basics of catching Pokémon. However, Ash still manages to win all eight gym badges in Unova and then entered the Unova League, where he defeats his arrogant rival, Trip, in the first match, but gets defeated by Cameron in the quarter-finals, one match below his previous Pokémon League ranking. Cameron is then defeated by Virgil, who went on to win the League with his team of Eevee evolutions. Also unlike previous seasons, Ash must battle against a much more malevolent Team Rocket, as well as the evil Team Plasma. After his latest attempt to compete in the Unova League, and foiling both Team Rocket and Team Plasma\\'s attempts to enslave Pokémon to conquer the world, Ash\\'s friends travel with him back to Kanto, where they parted to go own their ways and bid each other farewell. Ash then ventured to the Kalos region to challenge the Kalos League, as well as learn more about Mega Evolution, a transformation that can take certain fully evolved Pokémon to a more powerful temporary form. While there, he began traveling with the siblings, Clemont and Bonnie, along with Serena, whom he had met during a summer camp in Pallet Town when they were much younger. They meet new rivals like Sawyer, Shauna, Tierno, Trevor, and Alain. While in Kalos, Ash befriends and acquires new Pokémon, including Froakie, which later evolves into a powerful Greninja. Although Ash does not yet have a Pokémon that can mega-evolve, the group discovers that his Greninja is capable of \"Bond Phenomenon\", a transformation where Ash and Greninja connect mentally and Greninja\\'s body changes to a color scheme resembling Ash. Like Mega Evolution, the transformation is temporary and makes \"Ash-Greninja\" much more powerful and well capable of defeating mega-evolved Pokémon. Currently, no other known Pokémon in existence is capable of Bond Phenomenon, and several rivals have taken great interest in competing with it in the Kalos League with their own mega-evolving Pokémon. Like before, Ash earns all eight gym badges qualifying him to compete in the Kalos League, and with his newest Pokémon, Ash defeats many opponents and their mega-evolved Pokémon, advancing all the way to the finals, breaking his previous highest ranking, but is defeated by Alain. After the tournament, Ash and his friends help defend Lumiose City from Team Flare, the local evil organization, helped by Alain, who once was a member of Team Flare himself, but had a change of heart thanks to Ash\\'s influence. Once Team Flare is stopped, Ash releases Greninja to help protect Kalos, and bids farewell to his friends, before returning to Pallet once again. During a vacation with his mother in the Alola Region, Ash has an encounter with Tapu Koko, one of the local guardian Pokémon who gives him a Z-Ring, an item that allows a trainer to bring forth special powers from their Pokémon. When Ash uses the Z-Ring for the first time with Pikachu, it produces a massive surge of energy that overloads and shatters the Z-Crystal that powers it, making Ash realize that he still must learn to control it. In order to master the power of the Z-Ring, Ash then decides to stay in Alola and enrolls at Melemele Island\\'s Pokémon School, living with Professor Kukui and studying with his new classmates: Lana, Mallow, Lillie, Sophocles and Kiawe while battling against Team Rocket & Team Skull. Ash has considerably improved his abilities as a trainer over the course of the series. However, his earnestness and determination remain the same. During the first season of the series, Ash trained to catch more Pokémon than his childhood rival, Gary Oak, although Gary was always shown to be the stronger trainer. He soon began to focus more on each of his Pokémon\\'s abilities. Over his journey so far, Ash has collected 8 badges from each of the major regions of Kanto, Johto, Hoenn, Sinnoh, Unova and Kalos. In addition, he has also obtained 4 badges from the Orange Archipelago, and beating the Orange Islands Champion to gain the Winners\\' Trophy. He has also collected all 7 Frontier Symbols from Generation III\\'s Battle Frontier, and has been offered a position as a future Frontier Brain, which he declined. In the Alola region, he has cleared the Melemele Island Grand Trial so far. Ash has generally improved in his Pokémon League Performances over time, placing in the Top 16 in the Indigo Plateau Conference, Top 8 in the Silver Conference, Top 8 in the Ever Grande Conference, semi-finals in the Lily of the Valley Conference, Top 8 in the Vertress Conference and runner-up in the Lumiose Conference. The only video game Ash has truly appeared in to date is Pokémon Puzzle League, where he tries to become a Pokémon Puzzle Master. This game was never released in Japan. In Pokémon Red, Blue, Yellow, and the remakes of Red and Blue, a character very similar to Ash (named Red) appears as a playable character as well as in cameos in Pokémon Black 2, White 2, Gold, Silver, their remakes, Sun and Moon. The anime re-imagined Red as Ash Ketchum, the same way it re-imagined Red\\'s rival Blue as Gary Oak and Ethan (the protagonist of the second generation Pokémon games as well as their remakes) as Jimmy. Although they are counterparts, they are not the same characters because they originate from different canons and thus developed from different experiences. Though Pokémon Yellow has certain plot aspects that were inspired by the anime series, the player character is still named Red rather than Ash. In Pokémon Sun and Moon\\'s demo, the player character, Sun, receives a letter from Ash, along with his Greninja, which is capable of assuming its \"Ash-Greninja\" form through its ability Battle Bond. Ash also makes a cameo in Ghost Trial of the full game, where one may see a blurry photo of him and his Pikachu in the back room. The portrayals of Ash in the manga The Electric Tale of Pikachu, and Ash & Pikachu, are very similar to the one in the anime. There are key differences in the manga, though. The Electric Tale of Pikachu is based on Ash\\'s journey up until the end of the Orange Islands travel. Ash is usually seen traveling by himself during the course of this manga although he is joined by Misty and Brock in Indigo sometimes. Misty is the only one to join Ash in the Orange Islands. The Ash & Pikachu manga is similar, although it has the episodes from the anime like \"The Fortune Hunters\" and \"A Goldenrod Opportunity\" combined, but with a couple of changes. Manga author Toshihiro Ono cited Ash as one of his favorite characters to draw for the series, stating, \"I want to go on a trip with Misty just like him! (And forget about job, rent, etc.)\". In Pokémon Adventures, Red depicts his appearance from what he wore in the games. The book The Japanification of Children\\'s Popular Culture cited Ash as an example of cultural identification, with the character going through similar motions players of the games had to in order to progress through them. It additionally emphasized the character\\'s growth and development as the anime series progressed. UGO.com listed Ash fifteenth on their list of \"The Coolest Helmets and Headgear in Video Games\", stating \"Love him or hate him, y’all know Ash Ketchum for his red and white cap\". The Guinness Book of World Records 2011 Game Edition lists Ash as coming 37th out of 50 in a readers\\' poll of their favorite video game characters. Jian DeLeon of Complex magazine named him seventeenth on a list of \"The 25 Most Stylish Anime Characters,\" and stated, \"The first Ash outfit was hands down the best-and most memorable.\" However, he has been criticized by IGN for perpetuating floating timeline (i.e. not growing up), never succeeding, and for the ambiguity about his father, noting that the consistency could be seen having nothing as frustrating or comforting for fans. Although not parodied quite as frequently as the franchise mascot Pikachu, Ash still has many parodies and appearances in various other media, ranging from an unofficial fan-made film to several representations in web media, including many parodies on the YouTube channel Smosh. Ash makes a brief cameo in the animated series The Simpsons, when, in the episode \"Postcards From the Wedge,\" the character Bart Simpson is watching TV while doing his homework, and a parody of the Pokémon anime appears on TV, starring Ash (in what appears to be a loose parody of his Diamond & Pearl outfit) and Pikachu. Bart remarks \"Wow, how does this show stay so fresh?\", which is both a reference to the length of the anime, as well as referencing the length of The Simpsons itself in an ironic way. In the episode \"The Perspiration Implementation\" of the TV show The Big Bang Theory, Ash is mentioned by the character Sheldon Cooper when he attempts to ask a girl out by saying \"And as Ash Ketchum said to Pikachu, I choose you.\", which specifically references how Pikachu was Ash\\'s first Pokémon. In the episode \"Chinpokomon\" of the animated show South Park, a parody of Ash makes an appearance, along with a parody of Team Rocket\\'s James, as characters in a TV show parodying Pokémon. The title itself is a reference to Pokémon. Ash also makes appearances in several segments of the show Robot Chicken, including \"Poké Ball High Life\" and \"Pokémon Tennis.\" In the show The Norm Show, the character Tommy thinks that he is Ash, and faces off against the character Norm in the episode \"Artie comes to town.\" In the Japanese Light Novel series Highschool DxD, the character of the familiar master Zatouji is a clear parody of Ash, even his catchphrase being \"Gotta catch \\'em all!\" Ash also features in an ADHD Short segment called \"Pikachu gets Pokémon rabies.\" A man wearing Ash\\'s original outfit also appears in a few Taiwanese Subway ads teaching passengers basic safety procedures. A man wearing Ash\\'s original League Expo hat is also shown in the third episode of season 4 of the show Metalocalypse. In the episode \"Johnny\\'mon\" of the cartoon show Johnny Test, the character Blast Ketchup is a blatant parody of Ash Ketchum. The title is also a parody of Pokémon. In the game Overwatch, the character Hanzo says the line \"I choose you, spirit dragon,\" which is a reference to the phrase Ash frequently uses when sending out one of his Pokémon to battle, such as \"Pikachu, I choose you!\" Ash also made a brief appearance on The Late Show with Stephen Colbert, where he has a \\'Pokémon battle\\' against Cartoon Donald Trump with Special Prosecutor Robert Mueller. On August 18, 2016, the XYZ episode Kalos League Victory! Satoshi\\'s Greatest Decisive Battle (カロスリーグ優勝！サトシ頂上決戦, Karosurīgu yūshō! Satoshi chōjō kessen) (Down to the Fiery Finish! in the English dub) faced criticism from fans when Ash lost the Kalos League against Alain. The Pokémon fandom specifically criticized the episode due to misleading trailers that suggested that Ash would win the battle and because Ash had lost all of the Pokémon Leagues in past seasons. Fans also disliked the outcome because they believed Ash\\'s Greninja had many advantages over Alain\\'s Charizard, including the fact that water-type Pokémon resist attacks from fire-type Pokémon, and that the rare Bond Phenomenon Ash\\'s Greninja was subject to was said to be far more powerful than a conventional Mega Evolution. Several animators of the series expressed disappointment that Ash had lost.'"
            ]
          },
          "metadata": {
            "tags": []
          },
          "execution_count": 24
        }
      ]
    },
    {
      "cell_type": "code",
      "metadata": {
        "id": "rjaTuECtpiwb",
        "colab": {
          "base_uri": "https://localhost:8080/",
          "height": 273,
          "referenced_widgets": [
            "b8865ec82fd9424cbc2a4eddc41620b1",
            "46689ec501764181844277b701c33c46",
            "26595331c15c42e4bbea778ba7e98d05",
            "109f529f38c647a598f0339ae2209030",
            "e981fc97dc3b45d8add51c436a49bd01",
            "e0c1d0efeae3481b8d5f748ff49fa9d8",
            "61eb0c2735bf4902b267692ae1bb0e00",
            "c12c9681bf214660a4d134aa2320ce9d",
            "e333851f21374717a8d4ddaf58666c16",
            "9493124a1d314f6d9ab5db1d414ce789",
            "7b412ab6260d4d2cbc33f09f4cc864c2",
            "365302c86b234fceaa9c4fe7f5360dad",
            "3464aa667450483e8de1f3eaa6e94998",
            "0322a5c95ff6426ca4f4f2c115443b4a",
            "e7d36075cd9048b4af30b54fd6ca5d18",
            "91b3f3fce4bd4d29a840bafcb9264dae",
            "29b074869a354e34a04ec46bf5caa05e",
            "994d8602a23b40f1af516628e1faf706",
            "c64de517cd364cf9a9166b8df2b61e4a",
            "6214a35a8b7c46f89f4e88f81d68e408",
            "7c8aae5526914314a229165bc50982d2",
            "fe60fc4bbfe24e1dbb2bcf071da61138",
            "cad271b54a4346b78d022410856a3bb2",
            "3f7aa4be24af46c483cafdbcb6f4f2dd",
            "d05f52fdcf1b4a4aaf28e79ea8265b40",
            "1205b250c1654a57960282974d0f1dd3",
            "62063618088649d393edcab446ceb3fc",
            "30633bf1e1a74a8883f529e6c5f02342",
            "62ef6bda1b654d59a20e2bc2152122a0",
            "57fb23c235004825bb5e79ae3243b9f7",
            "e4adde1aff1b4877ba7f32b55ab25a8e",
            "d3eaef5d93b3489fb61c525e66896676"
          ]
        },
        "outputId": "062df6ef-aa9b-4af4-c292-2cf31e3bc1ee"
      },
      "source": [
        "import torch\n",
        "import torch.nn.functional as F\n",
        "from transformers import GPT2Tokenizer, GPT2LMHeadModel\n",
        "\n",
        "DEVICE = \"cuda\"\n",
        "\n",
        "# Load pre-trained model tokenizer (vocabulary)\n",
        "tokenizer = GPT2Tokenizer.from_pretrained('gpt2')\n",
        "\n",
        "\n",
        "# Load pre-trained model (weights)\n",
        "model = GPT2LMHeadModel.from_pretrained('gpt2')\n",
        "\n",
        "# Set the model in evaluation mode to deactivate the DropOut modules\n",
        "# This is IMPORTANT to have reproducible results during evaluation!\n",
        "model = model.eval()\n",
        "\n",
        "model = model.to(DEVICE)\n"
      ],
      "execution_count": null,
      "outputs": [
        {
          "output_type": "display_data",
          "data": {
            "application/vnd.jupyter.widget-view+json": {
              "model_id": "b8865ec82fd9424cbc2a4eddc41620b1",
              "version_minor": 0,
              "version_major": 2
            },
            "text/plain": [
              "HBox(children=(FloatProgress(value=0.0, description='Downloading', max=1042301.0, style=ProgressStyle(descript…"
            ]
          },
          "metadata": {
            "tags": []
          }
        },
        {
          "output_type": "stream",
          "text": [
            "\n"
          ],
          "name": "stdout"
        },
        {
          "output_type": "display_data",
          "data": {
            "application/vnd.jupyter.widget-view+json": {
              "model_id": "e333851f21374717a8d4ddaf58666c16",
              "version_minor": 0,
              "version_major": 2
            },
            "text/plain": [
              "HBox(children=(FloatProgress(value=0.0, description='Downloading', max=456318.0, style=ProgressStyle(descripti…"
            ]
          },
          "metadata": {
            "tags": []
          }
        },
        {
          "output_type": "stream",
          "text": [
            "\n"
          ],
          "name": "stdout"
        },
        {
          "output_type": "display_data",
          "data": {
            "application/vnd.jupyter.widget-view+json": {
              "model_id": "29b074869a354e34a04ec46bf5caa05e",
              "version_minor": 0,
              "version_major": 2
            },
            "text/plain": [
              "HBox(children=(FloatProgress(value=0.0, description='Downloading', max=665.0, style=ProgressStyle(description_…"
            ]
          },
          "metadata": {
            "tags": []
          }
        },
        {
          "output_type": "stream",
          "text": [
            "\n"
          ],
          "name": "stdout"
        },
        {
          "output_type": "display_data",
          "data": {
            "application/vnd.jupyter.widget-view+json": {
              "model_id": "d05f52fdcf1b4a4aaf28e79ea8265b40",
              "version_minor": 0,
              "version_major": 2
            },
            "text/plain": [
              "HBox(children=(FloatProgress(value=0.0, description='Downloading', max=548118077.0, style=ProgressStyle(descri…"
            ]
          },
          "metadata": {
            "tags": []
          }
        },
        {
          "output_type": "stream",
          "text": [
            "\n"
          ],
          "name": "stdout"
        }
      ]
    },
    {
      "cell_type": "code",
      "metadata": {
        "id": "aG6jp66J05oE"
      },
      "source": [
        ""
      ],
      "execution_count": null,
      "outputs": []
    },
    {
      "cell_type": "code",
      "metadata": {
        "id": "iPz1plUDuBGg"
      },
      "source": [
        "def generate_question():\n",
        "  NUM_SENTENCES = 24\n",
        "  start_index = int(random.random() * (len(sent_text) - NUM_SENTENCES))\n",
        "\n",
        "  starters = [\"What\", \"When\", \"Where\", \"Who\", \"To whom\", \"Which\", \"Whose\", \"Why\", \"How\"]\n",
        "\n",
        "  starter_index = int(random.random() * (len(starters)))\n",
        "\n",
        "  generated = None\n",
        "\n",
        "  while generated is None or generated[-1] != \"?\":\n",
        "    sent_start = start_index\n",
        "    sent_end = start_index + NUM_SENTENCES\n",
        "    text = \" \".join(sent_text[sent_start:sent_end]) + \"\\n\" + starters[starter_index]\n",
        "    # text = \"In Japanese, the character is voiced by Rica Matsumoto. Who\"\n",
        "    start_len = len(sent_tokenize(text))\n",
        "    while len(sent_tokenize(text)) <= start_len:\n",
        "      indexed_tokens = tokenizer.encode(text)\n",
        "\n",
        "      # Convert indexed tokens in a PyTorch tensor\n",
        "      tokens_tensor = torch.tensor([indexed_tokens])\n",
        "      tokens_tensor = tokens_tensor.to(DEVICE)\n",
        "\n",
        "      # Predict all tokens\n",
        "      with torch.no_grad():\n",
        "          outputs = model(tokens_tensor)\n",
        "          predictions = outputs[0]\n",
        "\n",
        "      pred = predictions[0, -1, :]\n",
        "      pred_exp = F.softmax(pred, dim=0)\n",
        "      predicted_index = torch.multinomial(pred_exp, 1).item()\n",
        "      predicted_text = tokenizer.decode(indexed_tokens + [predicted_index])\n",
        "      text = predicted_text\n",
        "\n",
        "    gen_sents = sent_tokenize(text)\n",
        "    new_generated = gen_sents[len(gen_sents) - 2]\n",
        "    if new_generated == generated:\n",
        "      break\n",
        "    else:\n",
        "      generated = new_generated\n",
        "  return generated\n",
        "  "
      ],
      "execution_count": null,
      "outputs": []
    },
    {
      "cell_type": "code",
      "metadata": {
        "id": "1-giRuodwmMc",
        "colab": {
          "base_uri": "https://localhost:8080/",
          "height": 56
        },
        "outputId": "0bfc1b9e-c6e2-40db-b566-0e678fb2df72"
      },
      "source": [
        "generate_question()"
      ],
      "execution_count": null,
      "outputs": [
        {
          "output_type": "execute_result",
          "data": {
            "application/vnd.google.colaboratory.intrinsic+json": {
              "type": "string"
            },
            "text/plain": [
              "'Which first top-ten American game of all-time, Game or is it the first?'"
            ]
          },
          "metadata": {
            "tags": []
          },
          "execution_count": 27
        }
      ]
    },
    {
      "cell_type": "code",
      "metadata": {
        "id": "qshuX_L677Ii"
      },
      "source": [
        ""
      ],
      "execution_count": null,
      "outputs": []
    }
  ]
}